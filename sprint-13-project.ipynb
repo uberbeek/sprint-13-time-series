{
 "cells": [
  {
   "cell_type": "markdown",
   "metadata": {},
   "source": [
    "# Project description\n",
    "\n",
    "Sweet Lift Taxi company has collected historical data on taxi orders at airports. To attract more drivers during peak hours, we need to predict the amount of taxi orders for the next hour. Build a model for such a prediction.\n",
    "\n",
    "The RMSE metric on the test set should not be more than 48.\n",
    "\n",
    "## Project instructions\n",
    "\n",
    "1. Download the data and resample it by one hour.\n",
    "2. Analyze the data.\n",
    "3. Train different models with different hyperparameters. The test sample should be 10% of the initial dataset. \n",
    "4. Test the data using the test sample and provide a conclusion.\n",
    "\n",
    "## Data description\n",
    "\n",
    "The data is stored in file `taxi.csv`. The number of orders is in the '*num_orders*' column."
   ]
  },
  {
   "cell_type": "markdown",
   "metadata": {},
   "source": [
    "## Preparation"
   ]
  },
  {
   "cell_type": "code",
   "execution_count": 1,
   "metadata": {},
   "outputs": [],
   "source": [
    "# Load libraries\n",
    "\n",
    "import math\n",
    "import pandas as pd\n",
    "import numpy as np\n",
    "from matplotlib import pyplot as plt\n",
    "from scipy import stats as st\n",
    "\n",
    "from sklearn.metrics import mean_squared_error\n",
    "from sklearn.model_selection import train_test_split\n",
    "from sklearn.model_selection import RandomizedSearchCV\n",
    "from sklearn.model_selection import TimeSeriesSplit\n",
    "from sklearn.linear_model import LinearRegression\n",
    "from sklearn.ensemble import RandomForestRegressor\n",
    "\n",
    "from statsmodels.graphics.tsaplots import plot_acf\n",
    "from statsmodels.graphics.tsaplots import plot_pacf\n",
    "from statsmodels.tsa.seasonal import seasonal_decompose\n",
    "from statsmodels.tsa.stattools import adfuller\n",
    "from statsmodels.tsa.arima.model import ARIMA\n",
    "\n",
    "from pmdarima import auto_arima"
   ]
  },
  {
   "cell_type": "code",
   "execution_count": 2,
   "metadata": {},
   "outputs": [],
   "source": [
    "# Load data and resample it by one hour\n",
    "\n",
    "df = pd.read_csv('/datasets/taxi.csv', index_col=[0], parse_dates=[0])\n",
    "df.sort_index(inplace=True)\n",
    "df = df.resample('1H').sum()"
   ]
  },
  {
   "cell_type": "code",
   "execution_count": 3,
   "metadata": {},
   "outputs": [
    {
     "name": "stdout",
     "output_type": "stream",
     "text": [
      "<class 'pandas.core.frame.DataFrame'>\n",
      "DatetimeIndex: 4416 entries, 2018-03-01 00:00:00 to 2018-08-31 23:00:00\n",
      "Freq: H\n",
      "Data columns (total 1 columns):\n",
      " #   Column      Non-Null Count  Dtype\n",
      "---  ------      --------------  -----\n",
      " 0   num_orders  4416 non-null   int64\n",
      "dtypes: int64(1)\n",
      "memory usage: 69.0 KB\n"
     ]
    },
    {
     "data": {
      "text/plain": [
       "None"
      ]
     },
     "metadata": {},
     "output_type": "display_data"
    },
    {
     "data": {
      "text/html": [
       "<div>\n",
       "<style scoped>\n",
       "    .dataframe tbody tr th:only-of-type {\n",
       "        vertical-align: middle;\n",
       "    }\n",
       "\n",
       "    .dataframe tbody tr th {\n",
       "        vertical-align: top;\n",
       "    }\n",
       "\n",
       "    .dataframe thead th {\n",
       "        text-align: right;\n",
       "    }\n",
       "</style>\n",
       "<table border=\"1\" class=\"dataframe\">\n",
       "  <thead>\n",
       "    <tr style=\"text-align: right;\">\n",
       "      <th></th>\n",
       "      <th>num_orders</th>\n",
       "    </tr>\n",
       "    <tr>\n",
       "      <th>datetime</th>\n",
       "      <th></th>\n",
       "    </tr>\n",
       "  </thead>\n",
       "  <tbody>\n",
       "    <tr>\n",
       "      <th>2018-03-01 00:00:00</th>\n",
       "      <td>124</td>\n",
       "    </tr>\n",
       "    <tr>\n",
       "      <th>2018-03-01 01:00:00</th>\n",
       "      <td>85</td>\n",
       "    </tr>\n",
       "    <tr>\n",
       "      <th>2018-03-01 02:00:00</th>\n",
       "      <td>71</td>\n",
       "    </tr>\n",
       "    <tr>\n",
       "      <th>2018-03-01 03:00:00</th>\n",
       "      <td>66</td>\n",
       "    </tr>\n",
       "    <tr>\n",
       "      <th>2018-03-01 04:00:00</th>\n",
       "      <td>43</td>\n",
       "    </tr>\n",
       "    <tr>\n",
       "      <th>...</th>\n",
       "      <td>...</td>\n",
       "    </tr>\n",
       "    <tr>\n",
       "      <th>2018-08-31 19:00:00</th>\n",
       "      <td>136</td>\n",
       "    </tr>\n",
       "    <tr>\n",
       "      <th>2018-08-31 20:00:00</th>\n",
       "      <td>154</td>\n",
       "    </tr>\n",
       "    <tr>\n",
       "      <th>2018-08-31 21:00:00</th>\n",
       "      <td>159</td>\n",
       "    </tr>\n",
       "    <tr>\n",
       "      <th>2018-08-31 22:00:00</th>\n",
       "      <td>223</td>\n",
       "    </tr>\n",
       "    <tr>\n",
       "      <th>2018-08-31 23:00:00</th>\n",
       "      <td>205</td>\n",
       "    </tr>\n",
       "  </tbody>\n",
       "</table>\n",
       "<p>4416 rows × 1 columns</p>\n",
       "</div>"
      ],
      "text/plain": [
       "                     num_orders\n",
       "datetime                       \n",
       "2018-03-01 00:00:00         124\n",
       "2018-03-01 01:00:00          85\n",
       "2018-03-01 02:00:00          71\n",
       "2018-03-01 03:00:00          66\n",
       "2018-03-01 04:00:00          43\n",
       "...                         ...\n",
       "2018-08-31 19:00:00         136\n",
       "2018-08-31 20:00:00         154\n",
       "2018-08-31 21:00:00         159\n",
       "2018-08-31 22:00:00         223\n",
       "2018-08-31 23:00:00         205\n",
       "\n",
       "[4416 rows x 1 columns]"
      ]
     },
     "execution_count": 3,
     "metadata": {},
     "output_type": "execute_result"
    }
   ],
   "source": [
    "# Examine the df dataframe\n",
    "\n",
    "display(df.info())\n",
    "df"
   ]
  },
  {
   "cell_type": "code",
   "execution_count": 4,
   "metadata": {},
   "outputs": [
    {
     "data": {
      "text/html": [
       "<div>\n",
       "<style scoped>\n",
       "    .dataframe tbody tr th:only-of-type {\n",
       "        vertical-align: middle;\n",
       "    }\n",
       "\n",
       "    .dataframe tbody tr th {\n",
       "        vertical-align: top;\n",
       "    }\n",
       "\n",
       "    .dataframe thead th {\n",
       "        text-align: right;\n",
       "    }\n",
       "</style>\n",
       "<table border=\"1\" class=\"dataframe\">\n",
       "  <thead>\n",
       "    <tr style=\"text-align: right;\">\n",
       "      <th></th>\n",
       "      <th>num_orders</th>\n",
       "    </tr>\n",
       "  </thead>\n",
       "  <tbody>\n",
       "    <tr>\n",
       "      <th>count</th>\n",
       "      <td>4416.000000</td>\n",
       "    </tr>\n",
       "    <tr>\n",
       "      <th>mean</th>\n",
       "      <td>84.422781</td>\n",
       "    </tr>\n",
       "    <tr>\n",
       "      <th>std</th>\n",
       "      <td>45.023853</td>\n",
       "    </tr>\n",
       "    <tr>\n",
       "      <th>min</th>\n",
       "      <td>0.000000</td>\n",
       "    </tr>\n",
       "    <tr>\n",
       "      <th>25%</th>\n",
       "      <td>54.000000</td>\n",
       "    </tr>\n",
       "    <tr>\n",
       "      <th>50%</th>\n",
       "      <td>78.000000</td>\n",
       "    </tr>\n",
       "    <tr>\n",
       "      <th>75%</th>\n",
       "      <td>107.000000</td>\n",
       "    </tr>\n",
       "    <tr>\n",
       "      <th>max</th>\n",
       "      <td>462.000000</td>\n",
       "    </tr>\n",
       "  </tbody>\n",
       "</table>\n",
       "</div>"
      ],
      "text/plain": [
       "        num_orders\n",
       "count  4416.000000\n",
       "mean     84.422781\n",
       "std      45.023853\n",
       "min       0.000000\n",
       "25%      54.000000\n",
       "50%      78.000000\n",
       "75%     107.000000\n",
       "max     462.000000"
      ]
     },
     "metadata": {},
     "output_type": "display_data"
    },
    {
     "data": {
      "image/png": "[encoded data removed]",
      "text/plain": [
       "<Figure size 640x480 with 1 Axes>"
      ]
     },
     "metadata": {},
     "output_type": "display_data"
    },
    {
     "data": {
      "image/png": "[encoded data removed]",
      "text/plain": [
       "<Figure size 640x480 with 1 Axes>"
      ]
     },
     "metadata": {},
     "output_type": "display_data"
    }
   ],
   "source": [
    "# Examine and plot the num_orders column\n",
    "\n",
    "display(df.describe())\n",
    "\n",
    "plt.hist(df, bins=100)\n",
    "plt.xlabel('Number of Orders')\n",
    "plt.ylabel('Number of Observations')\n",
    "plt.title(f'Histogram for Number of Orders')\n",
    "plt.show()\n",
    "\n",
    "df['num_orders'].plot()\n",
    "plt.title(\"Number of Orders Over Time\")\n",
    "plt.xlabel(\"Date\")\n",
    "plt.ylabel(\"Number of Orders\")\n",
    "plt.show()"
   ]
  },
  {
   "cell_type": "code",
   "execution_count": 5,
   "metadata": {},
   "outputs": [
    {
     "name": "stdout",
     "output_type": "stream",
     "text": [
      "Outliers: 121 (2.74%)\n",
      "Most extreme value: 462, 8.39 SDs above the Mean\n"
     ]
    }
   ],
   "source": [
    "# Examine outliers in the num_orders column\n",
    "\n",
    "outlier_cutoff = df['num_orders'].quantile(0.75)+1.5*(df['num_orders'].quantile(0.75) - df['num_orders'].quantile(0.25))\n",
    "outliers = (df['num_orders'] > outlier_cutoff).sum()\n",
    "print(f\"Outliers: {outliers} ({100*outliers/len(df):.2f}%)\")\n",
    "print(f\"Most extreme value: {df['num_orders'].max()}, {(df['num_orders'].max()-df['num_orders'].mean())/df['num_orders'].std():.2f} SDs above the Mean\")"
   ]
  },
  {
   "cell_type": "markdown",
   "metadata": {},
   "source": [
    "The data look good overall. I parsed the datetime column as datetime64[ns], assigned it as the index, and resampled it by one hour. The data run continuously from 2018-03-01 to 2018-08-31 (inclusive) with no missing values. The num_orders column contains integer data approximately normal in shape though moderately right skewed. It does have a relatively long right tail with 121 outliers (2.74% of the dataset) according to the interquartile rule and a maximum value of 462, which is more than 8 standard deviations above the mean. Those outliers could be problematic, but they are rare and not out of place in the distribution, so I will ignore them. "
   ]
  },
  {
   "cell_type": "markdown",
   "metadata": {},
   "source": [
    "## Analysis"
   ]
  },
  {
   "cell_type": "code",
   "execution_count": 6,
   "metadata": {},
   "outputs": [
    {
     "data": {
      "image/png": "[encoded data removed]",
      "text/plain": [
       "<Figure size 640x480 with 4 Axes>"
      ]
     },
     "metadata": {},
     "output_type": "display_data"
    }
   ],
   "source": [
    "# Decompose the time series into trend, seasonality, and residual components\n",
    "\n",
    "decomposition = seasonal_decompose(df)\n",
    "decomposition.plot()\n",
    "plt.show()"
   ]
  },
  {
   "cell_type": "code",
   "execution_count": 7,
   "metadata": {
    "scrolled": true
   },
   "outputs": [
    {
     "data": {
      "image/png": "[encoded data removed]",
      "text/plain": [
       "<Figure size 640x480 with 1 Axes>"
      ]
     },
     "metadata": {},
     "output_type": "display_data"
    }
   ],
   "source": [
    "# Examine the seasonal component\n",
    "\n",
    "decomposition.seasonal['2018-03-01':'2018-03-3'].plot()\n",
    "plt.title(\"Seasonal Component Over 3 Days (March 1-3, 2018)\")\n",
    "plt.xlabel(\"Date\")\n",
    "plt.ylabel(\"Number of Orders\")\n",
    "plt.show()"
   ]
  },
  {
   "cell_type": "code",
   "execution_count": 8,
   "metadata": {
    "scrolled": true
   },
   "outputs": [
    {
     "data": {
      "image/png": "[encoded data removed]",
      "text/plain": [
       "<Figure size 640x480 with 1 Axes>"
      ]
     },
     "metadata": {},
     "output_type": "display_data"
    },
    {
     "data": {
      "image/png": "[encoded data removed]",
      "text/plain": [
       "<Figure size 640x480 with 1 Axes>"
      ]
     },
     "metadata": {},
     "output_type": "display_data"
    }
   ],
   "source": [
    "# Plot autocorrelations and partial autocorrelations\n",
    "\n",
    "plot_acf(x=df, lags=100)\n",
    "plt.xlabel(\"Lags\")\n",
    "plt.ylabel(\"ACF\")\n",
    "plt.show()\n",
    "\n",
    "plot_pacf(x=df, lags=100)\n",
    "plt.xlabel(\"Lags\")\n",
    "plt.ylabel(\"PACF\")\n",
    "plt.show()"
   ]
  },
  {
   "cell_type": "code",
   "execution_count": 9,
   "metadata": {},
   "outputs": [
    {
     "name": "stdout",
     "output_type": "stream",
     "text": [
      "Dickey-Fuller Unit Root Test\n",
      "P-value:  0.028940051402613028\n"
     ]
    }
   ],
   "source": [
    "# Test stationarity with the Dickey-Fuller unit root test\n",
    "\n",
    "df_stationarityTest = adfuller(df, autolag='AIC')\n",
    "\n",
    "print(\"Dickey-Fuller Unit Root Test\")\n",
    "print(\"P-value: \", df_stationarityTest[1])"
   ]
  },
  {
   "cell_type": "markdown",
   "metadata": {},
   "source": [
    "The data show a modestly increasing trend and a recurring seasonal component at the scale of one day. They also have high autocorrelations and partial autocorrelations at lag intervals of 24 steps (one day). According to the Dickey-Fuller unit root test, the time series is stationary (p < 0.05). "
   ]
  },
  {
   "cell_type": "markdown",
   "metadata": {},
   "source": [
    "## Training"
   ]
  },
  {
   "cell_type": "code",
   "execution_count": 10,
   "metadata": {},
   "outputs": [],
   "source": [
    "# Create functions to help make features and tune regression models\n",
    "\n",
    "def make_features(original_data, max_lag, rolling_mean_size):\n",
    "    data = original_data.copy()\n",
    "    data['month'] = data.index.month\n",
    "    data['day'] = data.index.day\n",
    "    data['hour'] = data.index.hour\n",
    "    data['dayofweek'] = data.index.dayofweek\n",
    "    for lag in range(1, max_lag + 1):\n",
    "        data['lag_{}'.format(lag)] = data['num_orders'].shift(lag)\n",
    "    data['rolling_mean'] = data['num_orders'].shift().rolling(rolling_mean_size).mean()\n",
    "    return data\n",
    "\n",
    "def tune_predictors(original_data, model, max_lags, roll_sizes):\n",
    "    for roll in roll_sizes:\n",
    "        for lag in max_lags:\n",
    "            data = make_features(original_data, lag, roll)\n",
    "            data = data.dropna()\n",
    "            train, valid = train_test_split(data, shuffle=False, test_size=0.1)\n",
    "\n",
    "            features_train = train.drop('num_orders', axis=1)\n",
    "            features_valid = valid.drop('num_orders', axis=1)\n",
    "            target_train = train['num_orders']\n",
    "            target_valid = valid['num_orders']\n",
    "\n",
    "            model.fit(features_train, target_train)\n",
    "            predict_train = pd.Series(model.predict(features_train))\n",
    "            predict_valid = pd.Series(model.predict(features_valid))\n",
    "            rmse_train = mean_squared_error(target_train, predict_train) ** 0.5\n",
    "            rmse_valid = mean_squared_error(target_valid, predict_valid) ** 0.5\n",
    "            \n",
    "            print(f\"Lag = {lag}, Roll Size = {roll}, Training RMSE = {rmse_train:.02f}, Validation RMSE = {rmse_valid:.02f}\") \n",
    "\n",
    "def find_top_features(original_data, model, max_lag, rolling_mean_size):\n",
    "    data = make_features(original_data, max_lag, rolling_mean_size)\n",
    "    data = data.dropna()\n",
    "    train, valid = train_test_split(data, shuffle=False, test_size=0.1)\n",
    "\n",
    "    features_train = train.drop('num_orders', axis=1)\n",
    "    features_valid = valid.drop('num_orders', axis=1)\n",
    "    target_train = train['num_orders']\n",
    "    target_valid = valid['num_orders']\n",
    "\n",
    "    model.fit(features_train, target_train)\n",
    "    predict_train = pd.Series(model.predict(features_train))\n",
    "    predict_valid = pd.Series(model.predict(features_valid))\n",
    "    rmse_train = mean_squared_error(target_train, predict_train) ** 0.5\n",
    "    rmse_valid = mean_squared_error(target_valid, predict_valid) ** 0.5\n",
    "\n",
    "    if isinstance(model, LinearRegression):\n",
    "        top_features = pd.Series(np.abs(model.coef_), index=features_train.columns).sort_values(ascending=False).head(30)\n",
    "    elif isinstance(model, RandomForestRegressor):\n",
    "        top_features = pd.Series(model.feature_importances_, index=features_train.columns).sort_values(ascending=False).head(30)\n",
    "\n",
    "    print('Model Results:')\n",
    "    print(f\"Training RMSE = {rmse_train:.02f}, Validation RMSE = {rmse_valid:.02f}\") \n",
    "    print()\n",
    "    print('Feature Importance:')\n",
    "    print(top_features)\n",
    "    \n",
    "    return top_features\n",
    "\n",
    "def plot_hyperparam_search(results, params):\n",
    "    results_df = pd.DataFrame(results)\n",
    "    results_df = results_df[[f\"param_{x}\" for x in params] + ['mean_test_score']]\n",
    "    results_df['mean_test_score'] = -results_df['mean_test_score']\n",
    "\n",
    "    i = 0\n",
    "    plt.figure(figsize=(12, 5))\n",
    "    for param in params:\n",
    "        i += 1\n",
    "        plt.subplot(1, 3, i)\n",
    "        results_df.groupby(f\"param_{param}\")['mean_test_score'].mean().plot(marker='o')\n",
    "        plt.xlabel(param)\n",
    "        plt.ylabel(\"Average RMSE\")\n",
    "        plt.title(f\"Average RMSE by {param}\")\n",
    "\n",
    "    plt.tight_layout()\n",
    "    plt.show()\n",
    "    \n",
    "    return results_df.sort_values(by='mean_test_score')"
   ]
  },
  {
   "cell_type": "code",
   "execution_count": 11,
   "metadata": {},
   "outputs": [
    {
     "name": "stdout",
     "output_type": "stream",
     "text": [
      "Training set size: 3974, 90%\n",
      "Test set size: 442, 10%\n"
     ]
    }
   ],
   "source": [
    "# Split the data into training and test sets\n",
    "\n",
    "df_train, df_test = train_test_split(df, shuffle=False, test_size=0.1)\n",
    "\n",
    "print(f\"Training set size: {len(df_train)}, {100*len(df_train)/len(df):.0f}%\")\n",
    "print(f\"Test set size: {len(df_test)}, {100*len(df_test)/len(df):.0f}%\")"
   ]
  },
  {
   "cell_type": "code",
   "execution_count": 12,
   "metadata": {
    "scrolled": true
   },
   "outputs": [
    {
     "name": "stdout",
     "output_type": "stream",
     "text": [
      "Linear Regression Results:\n",
      "Lag = 1, Roll Size = 1, Training RMSE = 29.33, Validation RMSE = 41.13\n",
      "Lag = 6, Roll Size = 1, Training RMSE = 29.15, Validation RMSE = 40.67\n",
      "Lag = 12, Roll Size = 1, Training RMSE = 28.77, Validation RMSE = 40.25\n",
      "Lag = 24, Roll Size = 1, Training RMSE = 24.60, Validation RMSE = 34.15\n",
      "Lag = 48, Roll Size = 1, Training RMSE = 22.34, Validation RMSE = 31.25\n",
      "Lag = 72, Roll Size = 1, Training RMSE = 21.66, Validation RMSE = 30.12\n",
      "Lag = 96, Roll Size = 1, Training RMSE = 21.32, Validation RMSE = 29.68\n",
      "Lag = 120, Roll Size = 1, Training RMSE = 20.87, Validation RMSE = 29.20\n",
      "Lag = 240, Roll Size = 1, Training RMSE = 19.05, Validation RMSE = 28.51\n",
      "Lag = 480, Roll Size = 1, Training RMSE = 18.25, Validation RMSE = 29.25\n",
      "Lag = 1, Roll Size = 12, Training RMSE = 29.37, Validation RMSE = 40.90\n",
      "Lag = 6, Roll Size = 12, Training RMSE = 29.16, Validation RMSE = 40.65\n",
      "Lag = 12, Roll Size = 12, Training RMSE = 28.77, Validation RMSE = 40.25\n",
      "Lag = 24, Roll Size = 12, Training RMSE = 24.60, Validation RMSE = 34.15\n",
      "Lag = 48, Roll Size = 12, Training RMSE = 22.34, Validation RMSE = 31.24\n",
      "Lag = 72, Roll Size = 12, Training RMSE = 21.66, Validation RMSE = 30.12\n",
      "Lag = 96, Roll Size = 12, Training RMSE = 21.32, Validation RMSE = 29.67\n",
      "Lag = 120, Roll Size = 12, Training RMSE = 20.87, Validation RMSE = 29.20\n",
      "Lag = 240, Roll Size = 12, Training RMSE = 19.05, Validation RMSE = 28.51\n",
      "Lag = 480, Roll Size = 12, Training RMSE = 18.25, Validation RMSE = 29.25\n",
      "Lag = 1, Roll Size = 24, Training RMSE = 29.39, Validation RMSE = 40.92\n",
      "Lag = 6, Roll Size = 24, Training RMSE = 29.13, Validation RMSE = 40.46\n",
      "Lag = 12, Roll Size = 24, Training RMSE = 28.76, Validation RMSE = 40.01\n",
      "Lag = 24, Roll Size = 24, Training RMSE = 24.60, Validation RMSE = 34.15\n",
      "Lag = 48, Roll Size = 24, Training RMSE = 22.34, Validation RMSE = 31.24\n",
      "Lag = 72, Roll Size = 24, Training RMSE = 21.66, Validation RMSE = 30.12\n",
      "Lag = 96, Roll Size = 24, Training RMSE = 21.32, Validation RMSE = 29.67\n",
      "Lag = 120, Roll Size = 24, Training RMSE = 20.87, Validation RMSE = 29.20\n",
      "Lag = 240, Roll Size = 24, Training RMSE = 19.05, Validation RMSE = 28.51\n",
      "Lag = 480, Roll Size = 24, Training RMSE = 18.25, Validation RMSE = 29.25\n"
     ]
    }
   ],
   "source": [
    "# Optimize lag number and rolling average window size for linear regression\n",
    "\n",
    "print('Linear Regression Results:')\n",
    "tune_predictors(df_train, LinearRegression(), [1,6,12,24,48,72,96,120,240,480], [1,12,24])"
   ]
  },
  {
   "cell_type": "code",
   "execution_count": 13,
   "metadata": {},
   "outputs": [
    {
     "name": "stdout",
     "output_type": "stream",
     "text": [
      "Model Results:\n",
      "Training RMSE = 19.05, Validation RMSE = 28.51\n",
      "\n",
      "Feature Importance:\n",
      "month        4.773949\n",
      "dayofweek    0.399921\n",
      "lag_168      0.326728\n",
      "day          0.275085\n",
      "hour         0.113896\n",
      "lag_48       0.111102\n",
      "lag_24       0.099455\n",
      "lag_72       0.092230\n",
      "lag_120      0.078850\n",
      "lag_7        0.078706\n",
      "lag_96       0.077666\n",
      "lag_2        0.071421\n",
      "lag_191      0.068717\n",
      "lag_70       0.061184\n",
      "lag_167      0.061122\n",
      "lag_169      0.058150\n",
      "lag_13       0.055689\n",
      "lag_43       0.052207\n",
      "lag_12       0.049086\n",
      "lag_8        0.046908\n",
      "lag_56       0.046444\n",
      "lag_159      0.043618\n",
      "lag_216      0.043579\n",
      "lag_4        0.041592\n",
      "lag_11       0.040150\n",
      "lag_5        0.039806\n",
      "lag_197      0.039407\n",
      "lag_162      0.038515\n",
      "lag_14       0.038116\n",
      "lag_183      0.037923\n",
      "dtype: float64\n"
     ]
    }
   ],
   "source": [
    "# Find the most predictive features for linear regression\n",
    "\n",
    "top_features = find_top_features(df_train, LinearRegression(), 240, 1)"
   ]
  },
  {
   "cell_type": "code",
   "execution_count": 14,
   "metadata": {},
   "outputs": [
    {
     "data": {
      "image/png": "[encoded data removed]",
      "text/plain": [
       "<Figure size 1000x500 with 1 Axes>"
      ]
     },
     "metadata": {},
     "output_type": "display_data"
    }
   ],
   "source": [
    "# Plot the most important features (without the first few to keep the scale legible) for linear regression\n",
    "\n",
    "top_features_plot = top_features[4:].copy()\n",
    "plt.figure(figsize=(10, 5))\n",
    "plt.plot(top_features_plot.index, top_features_plot.values, marker='o')\n",
    "plt.xticks(rotation=60, ha='right')\n",
    "plt.xlabel(\"Feature\")\n",
    "plt.ylabel(\"Coefficient Value\")\n",
    "plt.title(\"Most Important Features for Linear Regression\")\n",
    "plt.grid(True)\n",
    "plt.show()"
   ]
  },
  {
   "cell_type": "code",
   "execution_count": 15,
   "metadata": {
    "scrolled": true
   },
   "outputs": [
    {
     "name": "stdout",
     "output_type": "stream",
     "text": [
      "Training RMSE = 20.34, Validation RMSE = 29.01\n",
      "Number of features = 15\n"
     ]
    }
   ],
   "source": [
    "# Run the linear regression model with only the most important features\n",
    "\n",
    "retained_features_LR = ['num_orders'] + top_features[top_features > 0.06].index.tolist()\n",
    "data = make_features(df_train, 240, 1)\n",
    "data = data[retained_features_LR]\n",
    "\n",
    "data = data.dropna()\n",
    "train, valid = train_test_split(data, shuffle=False, test_size=0.1)\n",
    "\n",
    "features_train = train.drop('num_orders', axis=1)\n",
    "features_valid = valid.drop('num_orders', axis=1)\n",
    "target_train = train['num_orders']\n",
    "target_valid = valid['num_orders']\n",
    "\n",
    "model = LinearRegression()\n",
    "model.fit(features_train, target_train)\n",
    "predict_train = pd.Series(model.predict(features_train))\n",
    "predict_valid = pd.Series(model.predict(features_valid))\n",
    "rmse_train = mean_squared_error(target_train, predict_train) ** 0.5\n",
    "rmse_valid = mean_squared_error(target_valid, predict_valid) ** 0.5\n",
    "\n",
    "print(f\"Training RMSE = {rmse_train:.02f}, Validation RMSE = {rmse_valid:.02f}\")\n",
    "print('Number of features =', features_train.shape[1])"
   ]
  },
  {
   "cell_type": "code",
   "execution_count": 16,
   "metadata": {},
   "outputs": [
    {
     "data": {
      "image/png": "[encoded data removed]",
      "text/plain": [
       "<Figure size 640x480 with 1 Axes>"
      ]
     },
     "metadata": {},
     "output_type": "display_data"
    }
   ],
   "source": [
    "# Plot actual vs. predicted values for linear regression\n",
    "\n",
    "predict_valid = pd.Series(model.predict(features_valid), index=target_valid.index)\n",
    "plot_data = pd.DataFrame({'actual': target_valid, 'predicted': predict_valid})\n",
    "\n",
    "plot_data.plot()\n",
    "plt.title(\"Actual vs Predicted Values for Linear Regression\")\n",
    "plt.xlabel(\"Time\")\n",
    "plt.ylabel(\"Number of Orders\")\n",
    "plt.show()"
   ]
  },
  {
   "cell_type": "markdown",
   "metadata": {},
   "source": [
    "I created several features for a linear regression model including calendar features (month, day, hour, and day of the week), lag features, and rolling mean. I tried several models with different numbers of lag features and different rolling mean windows. Because the time series has a daily seasonal component (24 hours), I tried maximum lags of simple multiples and divisors of 24. The window had no effect on scores, but the best performing model had 240 lag features (RMSE = 28.51). \n",
    "\n",
    "That many features is unwieldy and may cause overtraining, so I pared them back. A plot of feature coefficients revealed plateaus around 0.08 and 0.06. I retained only 15 features with coefficients greater than 0.06, including month, day of week, day, hour, and various lags (at 2, 7, 24, 48, 70, 72, 96, 120, 167, 168, and 191 steps). It performed well with an RMSE of 29.01, not much worse than the full model with 240 lags. The plot of predicted vs. actual values showed that the model is quite good."
   ]
  },
  {
   "cell_type": "code",
   "execution_count": 17,
   "metadata": {
    "scrolled": true
   },
   "outputs": [
    {
     "name": "stdout",
     "output_type": "stream",
     "text": [
      "Random Forest Results:\n",
      "Lag = 24, Roll Size = 1, Training RMSE = 8.01, Validation RMSE = 32.33\n",
      "Lag = 48, Roll Size = 1, Training RMSE = 8.08, Validation RMSE = 32.16\n",
      "Lag = 72, Roll Size = 1, Training RMSE = 7.92, Validation RMSE = 31.00\n",
      "Lag = 96, Roll Size = 1, Training RMSE = 7.96, Validation RMSE = 30.86\n",
      "Lag = 120, Roll Size = 1, Training RMSE = 8.00, Validation RMSE = 30.50\n",
      "Lag = 240, Roll Size = 1, Training RMSE = 7.64, Validation RMSE = 29.67\n",
      "Lag = 480, Roll Size = 1, Training RMSE = 7.68, Validation RMSE = 29.70\n",
      "Lag = 24, Roll Size = 12, Training RMSE = 7.97, Validation RMSE = 31.75\n",
      "Lag = 48, Roll Size = 12, Training RMSE = 8.01, Validation RMSE = 32.32\n",
      "Lag = 72, Roll Size = 12, Training RMSE = 7.90, Validation RMSE = 30.98\n",
      "Lag = 96, Roll Size = 12, Training RMSE = 7.88, Validation RMSE = 30.69\n",
      "Lag = 120, Roll Size = 12, Training RMSE = 7.95, Validation RMSE = 30.28\n",
      "Lag = 240, Roll Size = 12, Training RMSE = 7.59, Validation RMSE = 29.73\n",
      "Lag = 480, Roll Size = 12, Training RMSE = 7.60, Validation RMSE = 29.66\n",
      "Lag = 24, Roll Size = 24, Training RMSE = 8.01, Validation RMSE = 32.40\n",
      "Lag = 48, Roll Size = 24, Training RMSE = 8.05, Validation RMSE = 32.79\n",
      "Lag = 72, Roll Size = 24, Training RMSE = 7.94, Validation RMSE = 31.35\n",
      "Lag = 96, Roll Size = 24, Training RMSE = 7.94, Validation RMSE = 31.27\n",
      "Lag = 120, Roll Size = 24, Training RMSE = 8.00, Validation RMSE = 30.37\n",
      "Lag = 240, Roll Size = 24, Training RMSE = 7.61, Validation RMSE = 29.48\n",
      "Lag = 480, Roll Size = 24, Training RMSE = 7.66, Validation RMSE = 29.56\n"
     ]
    }
   ],
   "source": [
    "# Optimize lag number and rolling average window size for the random forest regressor\n",
    "\n",
    "print('Random Forest Results:')\n",
    "tune_predictors(df_train, RandomForestRegressor(random_state=12345), [24,48,72,96,120,240,480], [1,12,24])"
   ]
  },
  {
   "cell_type": "code",
   "execution_count": 18,
   "metadata": {},
   "outputs": [
    {
     "name": "stdout",
     "output_type": "stream",
     "text": [
      "Model Results:\n",
      "Training RMSE = 7.61, Validation RMSE = 29.48\n",
      "\n",
      "Feature Importance:\n",
      "lag_168         0.541774\n",
      "lag_72          0.030791\n",
      "lag_48          0.022852\n",
      "lag_24          0.021618\n",
      "lag_120         0.017892\n",
      "lag_96          0.016538\n",
      "lag_216         0.010770\n",
      "lag_1           0.009019\n",
      "lag_2           0.007443\n",
      "hour            0.006725\n",
      "rolling_mean    0.005579\n",
      "lag_7           0.004020\n",
      "lag_8           0.003143\n",
      "lag_169         0.003038\n",
      "lag_6           0.002917\n",
      "lag_3           0.002892\n",
      "lag_240         0.002812\n",
      "lag_40          0.002741\n",
      "lag_167         0.002709\n",
      "lag_214         0.002544\n",
      "lag_144         0.002496\n",
      "lag_5           0.002372\n",
      "lag_192         0.002344\n",
      "lag_215         0.002298\n",
      "lag_4           0.002288\n",
      "lag_78          0.002206\n",
      "lag_13          0.002092\n",
      "lag_218         0.002075\n",
      "lag_166         0.002070\n",
      "lag_217         0.002059\n",
      "dtype: float64\n"
     ]
    }
   ],
   "source": [
    "# Find the most predictive features for the random forest regressor\n",
    "\n",
    "top_features = find_top_features(df_train, RandomForestRegressor(random_state=12345), 240, 24)"
   ]
  },
  {
   "cell_type": "code",
   "execution_count": 19,
   "metadata": {
    "scrolled": true
   },
   "outputs": [
    {
     "data": {
      "image/png": "[encoded data removed]",
      "text/plain": [
       "<Figure size 1000x500 with 1 Axes>"
      ]
     },
     "metadata": {},
     "output_type": "display_data"
    }
   ],
   "source": [
    "# Plot the most important features (without the first few to keep the scale legible) for the random forest regressor\n",
    "\n",
    "top_features_plot = top_features[2:].copy()\n",
    "plt.figure(figsize=(10, 5))\n",
    "plt.plot(top_features_plot.index, top_features_plot.values, marker='o')\n",
    "plt.xticks(rotation=60, ha='right')\n",
    "plt.xlabel(\"Feature\")\n",
    "plt.ylabel(\"Feature Importance\")\n",
    "plt.title(\"Most Important Features for Random Forest Regressor\")\n",
    "plt.grid(True)\n",
    "plt.show()"
   ]
  },
  {
   "cell_type": "code",
   "execution_count": 20,
   "metadata": {},
   "outputs": [
    {
     "name": "stdout",
     "output_type": "stream",
     "text": [
      "Random Forest Regressor Model\n",
      "Training RMSE = 7.65, Testing RMSE = 29.48\n",
      "Number of features = 13\n"
     ]
    }
   ],
   "source": [
    "# Run a random forest regressor model with the most important features\n",
    "\n",
    "retained_features_RF = ['num_orders'] + top_features[top_features > 0.0031].index.tolist()\n",
    "\n",
    "data = make_features(df_train, 240, 24)\n",
    "data = data[retained_features_RF]\n",
    "data = data.dropna()\n",
    "train, valid = train_test_split(data, shuffle=False, test_size=0.1)\n",
    "\n",
    "features_train = train.drop('num_orders', axis=1)\n",
    "features_valid = valid.drop('num_orders', axis=1)\n",
    "target_train = train['num_orders']\n",
    "target_valid = valid['num_orders']\n",
    "\n",
    "model = RandomForestRegressor(random_state=12345)\n",
    "model.fit(features_train, target_train)\n",
    "\n",
    "predict_train = pd.Series(model.predict(features_train))\n",
    "predict_valid = pd.Series(model.predict(features_valid))\n",
    "rmse_train = mean_squared_error(target_train, predict_train) ** 0.5\n",
    "rmse_valid = mean_squared_error(target_valid, predict_valid) ** 0.5\n",
    "\n",
    "print('Random Forest Regressor Model')\n",
    "print(f\"Training RMSE = {rmse_train:.02f}, Testing RMSE = {rmse_valid:.02f}\")\n",
    "print('Number of features =', features_train.shape[1])"
   ]
  },
  {
   "cell_type": "code",
   "execution_count": 21,
   "metadata": {},
   "outputs": [
    {
     "name": "stdout",
     "output_type": "stream",
     "text": [
      "Best Parameters: {'n_estimators': 50, 'max_depth': 10}\n",
      "Best Score (RMSE): 21.38460525362457\n"
     ]
    },
    {
     "data": {
      "image/png": "[encoded data removed]",
      "text/plain": [
       "<Figure size 1200x500 with 2 Axes>"
      ]
     },
     "metadata": {},
     "output_type": "display_data"
    },
    {
     "data": {
      "text/html": [
       "<div>\n",
       "<style scoped>\n",
       "    .dataframe tbody tr th:only-of-type {\n",
       "        vertical-align: middle;\n",
       "    }\n",
       "\n",
       "    .dataframe tbody tr th {\n",
       "        vertical-align: top;\n",
       "    }\n",
       "\n",
       "    .dataframe thead th {\n",
       "        text-align: right;\n",
       "    }\n",
       "</style>\n",
       "<table border=\"1\" class=\"dataframe\">\n",
       "  <thead>\n",
       "    <tr style=\"text-align: right;\">\n",
       "      <th></th>\n",
       "      <th>param_max_depth</th>\n",
       "      <th>param_n_estimators</th>\n",
       "      <th>mean_test_score</th>\n",
       "    </tr>\n",
       "  </thead>\n",
       "  <tbody>\n",
       "    <tr>\n",
       "      <th>2</th>\n",
       "      <td>10</td>\n",
       "      <td>50</td>\n",
       "      <td>21.384605</td>\n",
       "    </tr>\n",
       "    <tr>\n",
       "      <th>33</th>\n",
       "      <td>10</td>\n",
       "      <td>100</td>\n",
       "      <td>21.392884</td>\n",
       "    </tr>\n",
       "    <tr>\n",
       "      <th>6</th>\n",
       "      <td>15</td>\n",
       "      <td>100</td>\n",
       "      <td>21.418652</td>\n",
       "    </tr>\n",
       "    <tr>\n",
       "      <th>16</th>\n",
       "      <td>15</td>\n",
       "      <td>50</td>\n",
       "      <td>21.426763</td>\n",
       "    </tr>\n",
       "    <tr>\n",
       "      <th>15</th>\n",
       "      <td>20</td>\n",
       "      <td>50</td>\n",
       "      <td>21.448450</td>\n",
       "    </tr>\n",
       "    <tr>\n",
       "      <th>21</th>\n",
       "      <td>5</td>\n",
       "      <td>25</td>\n",
       "      <td>21.463453</td>\n",
       "    </tr>\n",
       "    <tr>\n",
       "      <th>17</th>\n",
       "      <td>5</td>\n",
       "      <td>50</td>\n",
       "      <td>21.466070</td>\n",
       "    </tr>\n",
       "    <tr>\n",
       "      <th>29</th>\n",
       "      <td>5</td>\n",
       "      <td>100</td>\n",
       "      <td>21.467573</td>\n",
       "    </tr>\n",
       "    <tr>\n",
       "      <th>34</th>\n",
       "      <td>10</td>\n",
       "      <td>25</td>\n",
       "      <td>21.471790</td>\n",
       "    </tr>\n",
       "    <tr>\n",
       "      <th>9</th>\n",
       "      <td>5</td>\n",
       "      <td>15</td>\n",
       "      <td>21.472153</td>\n",
       "    </tr>\n",
       "    <tr>\n",
       "      <th>3</th>\n",
       "      <td>50</td>\n",
       "      <td>50</td>\n",
       "      <td>21.478636</td>\n",
       "    </tr>\n",
       "    <tr>\n",
       "      <th>18</th>\n",
       "      <td>5</td>\n",
       "      <td>20</td>\n",
       "      <td>21.485887</td>\n",
       "    </tr>\n",
       "    <tr>\n",
       "      <th>7</th>\n",
       "      <td>25</td>\n",
       "      <td>50</td>\n",
       "      <td>21.498034</td>\n",
       "    </tr>\n",
       "    <tr>\n",
       "      <th>23</th>\n",
       "      <td>20</td>\n",
       "      <td>25</td>\n",
       "      <td>21.547813</td>\n",
       "    </tr>\n",
       "    <tr>\n",
       "      <th>30</th>\n",
       "      <td>15</td>\n",
       "      <td>25</td>\n",
       "      <td>21.551582</td>\n",
       "    </tr>\n",
       "    <tr>\n",
       "      <th>22</th>\n",
       "      <td>50</td>\n",
       "      <td>25</td>\n",
       "      <td>21.570384</td>\n",
       "    </tr>\n",
       "    <tr>\n",
       "      <th>8</th>\n",
       "      <td>25</td>\n",
       "      <td>25</td>\n",
       "      <td>21.579964</td>\n",
       "    </tr>\n",
       "    <tr>\n",
       "      <th>32</th>\n",
       "      <td>10</td>\n",
       "      <td>20</td>\n",
       "      <td>21.605304</td>\n",
       "    </tr>\n",
       "    <tr>\n",
       "      <th>24</th>\n",
       "      <td>20</td>\n",
       "      <td>20</td>\n",
       "      <td>21.671735</td>\n",
       "    </tr>\n",
       "    <tr>\n",
       "      <th>31</th>\n",
       "      <td>15</td>\n",
       "      <td>20</td>\n",
       "      <td>21.695409</td>\n",
       "    </tr>\n",
       "    <tr>\n",
       "      <th>11</th>\n",
       "      <td>50</td>\n",
       "      <td>20</td>\n",
       "      <td>21.703561</td>\n",
       "    </tr>\n",
       "    <tr>\n",
       "      <th>10</th>\n",
       "      <td>25</td>\n",
       "      <td>20</td>\n",
       "      <td>21.716177</td>\n",
       "    </tr>\n",
       "    <tr>\n",
       "      <th>0</th>\n",
       "      <td>100</td>\n",
       "      <td>15</td>\n",
       "      <td>21.740719</td>\n",
       "    </tr>\n",
       "    <tr>\n",
       "      <th>13</th>\n",
       "      <td>25</td>\n",
       "      <td>15</td>\n",
       "      <td>21.769607</td>\n",
       "    </tr>\n",
       "    <tr>\n",
       "      <th>25</th>\n",
       "      <td>20</td>\n",
       "      <td>15</td>\n",
       "      <td>21.794876</td>\n",
       "    </tr>\n",
       "    <tr>\n",
       "      <th>5</th>\n",
       "      <td>10</td>\n",
       "      <td>10</td>\n",
       "      <td>22.178849</td>\n",
       "    </tr>\n",
       "    <tr>\n",
       "      <th>27</th>\n",
       "      <td>100</td>\n",
       "      <td>10</td>\n",
       "      <td>22.259950</td>\n",
       "    </tr>\n",
       "    <tr>\n",
       "      <th>19</th>\n",
       "      <td>15</td>\n",
       "      <td>10</td>\n",
       "      <td>22.270281</td>\n",
       "    </tr>\n",
       "    <tr>\n",
       "      <th>20</th>\n",
       "      <td>5</td>\n",
       "      <td>5</td>\n",
       "      <td>22.345587</td>\n",
       "    </tr>\n",
       "    <tr>\n",
       "      <th>12</th>\n",
       "      <td>20</td>\n",
       "      <td>10</td>\n",
       "      <td>22.420647</td>\n",
       "    </tr>\n",
       "    <tr>\n",
       "      <th>28</th>\n",
       "      <td>10</td>\n",
       "      <td>5</td>\n",
       "      <td>23.400298</td>\n",
       "    </tr>\n",
       "    <tr>\n",
       "      <th>4</th>\n",
       "      <td>50</td>\n",
       "      <td>5</td>\n",
       "      <td>23.762695</td>\n",
       "    </tr>\n",
       "    <tr>\n",
       "      <th>14</th>\n",
       "      <td>100</td>\n",
       "      <td>5</td>\n",
       "      <td>23.762695</td>\n",
       "    </tr>\n",
       "    <tr>\n",
       "      <th>26</th>\n",
       "      <td>25</td>\n",
       "      <td>5</td>\n",
       "      <td>23.794420</td>\n",
       "    </tr>\n",
       "    <tr>\n",
       "      <th>1</th>\n",
       "      <td>20</td>\n",
       "      <td>5</td>\n",
       "      <td>23.862493</td>\n",
       "    </tr>\n",
       "  </tbody>\n",
       "</table>\n",
       "</div>"
      ],
      "text/plain": [
       "   param_max_depth param_n_estimators  mean_test_score\n",
       "2               10                 50        21.384605\n",
       "33              10                100        21.392884\n",
       "6               15                100        21.418652\n",
       "16              15                 50        21.426763\n",
       "15              20                 50        21.448450\n",
       "21               5                 25        21.463453\n",
       "17               5                 50        21.466070\n",
       "29               5                100        21.467573\n",
       "34              10                 25        21.471790\n",
       "9                5                 15        21.472153\n",
       "3               50                 50        21.478636\n",
       "18               5                 20        21.485887\n",
       "7               25                 50        21.498034\n",
       "23              20                 25        21.547813\n",
       "30              15                 25        21.551582\n",
       "22              50                 25        21.570384\n",
       "8               25                 25        21.579964\n",
       "32              10                 20        21.605304\n",
       "24              20                 20        21.671735\n",
       "31              15                 20        21.695409\n",
       "11              50                 20        21.703561\n",
       "10              25                 20        21.716177\n",
       "0              100                 15        21.740719\n",
       "13              25                 15        21.769607\n",
       "25              20                 15        21.794876\n",
       "5               10                 10        22.178849\n",
       "27             100                 10        22.259950\n",
       "19              15                 10        22.270281\n",
       "20               5                  5        22.345587\n",
       "12              20                 10        22.420647\n",
       "28              10                  5        23.400298\n",
       "4               50                  5        23.762695\n",
       "14             100                  5        23.762695\n",
       "26              25                  5        23.794420\n",
       "1               20                  5        23.862493"
      ]
     },
     "execution_count": 21,
     "metadata": {},
     "output_type": "execute_result"
    }
   ],
   "source": [
    "# Search hyperparameters to optimize the random forest regressor model\n",
    "\n",
    "param_grid = {\n",
    "    'n_estimators': [5, 10, 15, 20, 25, 50, 100],\n",
    "    'max_depth': [5, 10, 15, 20, 25, 50, 100]\n",
    "}\n",
    "\n",
    "tscv = TimeSeriesSplit(n_splits=5)\n",
    "model = RandomForestRegressor(random_state=12345)\n",
    "\n",
    "random_search = RandomizedSearchCV(model, param_grid, random_state=12345, n_iter=35, cv=tscv, scoring='neg_root_mean_squared_error', n_jobs=1)\n",
    "random_search.fit(features_train, target_train)\n",
    "\n",
    "print(\"Best Parameters:\", random_search.best_params_)\n",
    "print(\"Best Score (RMSE):\", -random_search.best_score_)\n",
    "\n",
    "plot_hyperparam_search(random_search.cv_results_, ['max_depth', 'n_estimators'])"
   ]
  },
  {
   "cell_type": "code",
   "execution_count": 22,
   "metadata": {},
   "outputs": [
    {
     "name": "stdout",
     "output_type": "stream",
     "text": [
      "Random Forest Regressor Model\n",
      "Training RMSE = 12.27, Validation RMSE = 29.74\n",
      "Number of features = 13\n"
     ]
    }
   ],
   "source": [
    "# Run the random forest regressor model with optimal hyperparameters and the most important features\n",
    "\n",
    "model = RandomForestRegressor(random_state=12345, n_estimators=50, max_depth=10)\n",
    "model.fit(features_train, target_train)\n",
    "\n",
    "predict_train = pd.Series(model.predict(features_train))\n",
    "predict_valid = pd.Series(model.predict(features_valid))\n",
    "rmse_train = mean_squared_error(target_train, predict_train) ** 0.5\n",
    "rmse_valid = mean_squared_error(target_valid, predict_valid) ** 0.5\n",
    "\n",
    "\n",
    "print('Random Forest Regressor Model')\n",
    "print(f\"Training RMSE = {rmse_train:.02f}, Validation RMSE = {rmse_valid:.02f}\")\n",
    "print('Number of features =', features_train.shape[1])"
   ]
  },
  {
   "cell_type": "code",
   "execution_count": 23,
   "metadata": {},
   "outputs": [
    {
     "data": {
      "image/png": "[encoded data removed]",
      "text/plain": [
       "<Figure size 640x480 with 1 Axes>"
      ]
     },
     "metadata": {},
     "output_type": "display_data"
    }
   ],
   "source": [
    "# Plot actual vs. predicted values for the random forest regressor\n",
    "\n",
    "predict_valid = pd.Series(model.predict(features_valid), index=target_valid.index)\n",
    "plot_data = pd.DataFrame({'actual': target_valid, 'predicted': predict_valid})\n",
    "\n",
    "plot_data.plot()\n",
    "plt.title(\"Actual vs Predicted Values for Random Forest Regressor\")\n",
    "plt.xlabel(\"Time\")\n",
    "plt.ylabel(\"Number of Orders\")\n",
    "plt.show()"
   ]
  },
  {
   "cell_type": "markdown",
   "metadata": {},
   "source": [
    "I followed the same procedure to find the most predictive features for a random forest regressor model as I did for the linear regression model. The best performing version (RMSE = 29.48) had calendar features (month, day, hour, and day of the week), 240 lag features, and a rolling mean window of 24. A plot of feature importance revealed plateaus around 0.01 and 0.03. I retained 13 features with importance greater than 0.0031, including hour, rolling mean, and various lags (at 1, 2, 7, 8, 24, 48, 72, 96, 120, 168, 216). The model performed well with an RMSE of 29.48, essentially the same as the full model with 240 lags. \n",
    "\n",
    "I trained and tuned random forest models using RandomizedSearchCV and TimeSeriesSplit to optimize values for the hyperparameters n_estimators and max_depth. The best scoring model during tuning had n_estimators = 50, max_depth = 10, and RMSE = 21.38. More estimators generally hurt performance and scores plateaued after a max depth of 25. That optimal model performed well on my validation set with an RMSE of 29.74. RandomizedSearchCV produced better scores because it averaged over multiple validation folds. The predicted vs. actual plot also showed good performance. "
   ]
  },
  {
   "cell_type": "code",
   "execution_count": 24,
   "metadata": {
    "scrolled": true
   },
   "outputs": [
    {
     "name": "stdout",
     "output_type": "stream",
     "text": [
      "Performing stepwise search to minimize aic\n",
      " ARIMA(0,1,0)(0,0,0)[24] intercept   : AIC=35505.914, Time=0.14 sec\n",
      " ARIMA(1,1,0)(1,0,0)[24] intercept   : AIC=34098.501, Time=9.49 sec\n",
      " ARIMA(0,1,1)(0,0,0)[24] intercept   : AIC=34973.765, Time=0.48 sec\n",
      " ARIMA(0,1,0)(0,0,0)[24]             : AIC=35503.914, Time=0.03 sec\n",
      " ARIMA(1,1,0)(0,0,0)[24] intercept   : AIC=35134.612, Time=0.13 sec\n",
      " ARIMA(0,1,0)(1,0,0)[24] intercept   : AIC=34818.030, Time=5.57 sec\n",
      " ARIMA(2,1,0)(1,0,0)[24] intercept   : AIC=33892.123, Time=14.99 sec\n",
      " ARIMA(2,1,0)(0,0,0)[24] intercept   : AIC=35070.753, Time=0.47 sec\n",
      " ARIMA(2,1,1)(1,0,0)[24] intercept   : AIC=33349.748, Time=24.76 sec\n",
      " ARIMA(2,1,1)(0,0,0)[24] intercept   : AIC=inf, Time=1.74 sec\n",
      " ARIMA(1,1,1)(1,0,0)[24] intercept   : AIC=inf, Time=17.51 sec\n",
      " ARIMA(2,1,2)(1,0,0)[24] intercept   : AIC=inf, Time=26.14 sec\n",
      " ARIMA(1,1,2)(1,0,0)[24] intercept   : AIC=33381.867, Time=22.06 sec\n",
      " ARIMA(2,1,1)(1,0,0)[24]             : AIC=inf, Time=10.02 sec\n",
      "\n",
      "Best model:  ARIMA(2,1,1)(1,0,0)[24] intercept\n",
      "Total fit time: 133.564 seconds\n"
     ]
    }
   ],
   "source": [
    "# Tune ARIMA hyperparameters\n",
    "# Restrict and simplify the search to avoid kernel crashes\n",
    "\n",
    "data = df_train.copy()\n",
    "train, valid = train_test_split(data, shuffle=False, test_size=0.1)\n",
    "\n",
    "model = auto_arima(\n",
    "    train,\n",
    "    seasonal=True,\n",
    "    m=24,\n",
    "    scoring=\"mse\",\n",
    "    start_p=0, max_p=2,\n",
    "    start_q=0, max_q=2,\n",
    "    start_P=0, max_P=1,\n",
    "    start_Q=0, max_Q=0, \n",
    "    trace=True,\n",
    "    max_order=5,\n",
    "    maxiter=20,\n",
    "    approximation=True,\n",
    ")"
   ]
  },
  {
   "cell_type": "code",
   "execution_count": 25,
   "metadata": {},
   "outputs": [
    {
     "name": "stdout",
     "output_type": "stream",
     "text": [
      "ARIMA RMSE = 46.890404290702804\n",
      "\n",
      "                                      SARIMAX Results                                      \n",
      "===========================================================================================\n",
      "Dep. Variable:                                   y   No. Observations:                 3576\n",
      "Model:             SARIMAX(2, 1, 1)x(1, 0, [], 24)   Log Likelihood              -16668.874\n",
      "Date:                             Tue, 11 Mar 2025   AIC                          33349.748\n",
      "Time:                                     01:54:45   BIC                          33386.839\n",
      "Sample:                                 03-01-2018   HQIC                         33362.971\n",
      "                                      - 07-27-2018                                         \n",
      "Covariance Type:                               opg                                         \n",
      "==============================================================================\n",
      "                 coef    std err          z      P>|z|      [0.025      0.975]\n",
      "------------------------------------------------------------------------------\n",
      "intercept      0.0038      0.010      0.396      0.692      -0.015       0.022\n",
      "ar.L1          0.2568      0.015     17.097      0.000       0.227       0.286\n",
      "ar.L2          0.1378      0.016      8.635      0.000       0.107       0.169\n",
      "ma.L1         -0.9795      0.006   -170.082      0.000      -0.991      -0.968\n",
      "ar.S.L24       0.5140      0.013     39.268      0.000       0.488       0.540\n",
      "sigma2       638.7334     12.080     52.875      0.000     615.057     662.410\n",
      "===================================================================================\n",
      "Ljung-Box (L1) (Q):                   0.08   Jarque-Bera (JB):               505.38\n",
      "Prob(Q):                              0.78   Prob(JB):                         0.00\n",
      "Heteroskedasticity (H):               1.80   Skew:                             0.59\n",
      "Prob(H) (two-sided):                  0.00   Kurtosis:                         4.42\n",
      "===================================================================================\n",
      "\n",
      "Warnings:\n",
      "[1] Covariance matrix calculated using the outer product of gradients (complex-step).\n"
     ]
    },
    {
     "data": {
      "image/png": "[encoded data removed]",
      "text/plain": [
       "<Figure size 640x480 with 1 Axes>"
      ]
     },
     "metadata": {},
     "output_type": "display_data"
    }
   ],
   "source": [
    "# Print and plot ARIMA model results\n",
    "\n",
    "predictions = model.predict(len(valid))\n",
    "\n",
    "print('ARIMA RMSE =', mean_squared_error(valid, predictions) ** 0.5)\n",
    "print()\n",
    "print(model.summary())\n",
    "\n",
    "plot_data = pd.DataFrame({'actual': valid.squeeze(), 'predicted': predictions})\n",
    "\n",
    "plot_data.plot()\n",
    "plt.title(\"Actual vs Predicted Values\")\n",
    "plt.xlabel(\"Time\")\n",
    "plt.ylabel(\"Number of Orders\")\n",
    "plt.show()"
   ]
  },
  {
   "cell_type": "markdown",
   "metadata": {},
   "source": [
    "I used the auto_arima algorithm to optimize hyperparameters (p, d, q, P, D, Q) for an ARIMA model. I specified a one day seasonal period (m = 24) based on earlier analyses and restricted the maximum hyperparameter values to p = 2, q = 2, P = 1, and Q = 0 due to trouble with the kernel crashing. The best scoring model (RMSE = 46.89) had the configuration p = 2, d = 1, q = 1, P = 1, D = 0, Q = 0. The plot of predicted vs. actual values showed a poor model that essentially converged to a constant model, capturing the average but ignoring seasonality past the first few days. \n",
    "\n",
    "The absence of discernable seasonality in the predictions is puzzling because the model ostensibly incorporated it with a period of 24. I think the simplicity of the model with very small order hyperparameters (P and Q <= 2) prevented it from adequately accounting for seasonality. More complex models would probably perform better, but I could not get them to run without crashing the kernel. It is also interesting that auto_arima decided to employ differencing (d = 1) despite the time series being stationary according to the Dickey-Fuller unit root test. The algorithm must have determined that predictions were improved with differencing. Perhaps it was trying to address seasonality since it could not effectively model it. "
   ]
  },
  {
   "cell_type": "markdown",
   "metadata": {},
   "source": [
    "## Testing"
   ]
  },
  {
   "cell_type": "code",
   "execution_count": 26,
   "metadata": {},
   "outputs": [
    {
     "name": "stdout",
     "output_type": "stream",
     "text": [
      "Linear Regression Model\n",
      "Training RMSE = 21.35, Testing RMSE = 36.10\n"
     ]
    }
   ],
   "source": [
    "# Test the optimized linear regression model\n",
    "\n",
    "data_train = make_features(df_train, 240, 1)\n",
    "data_test = make_features(df_test, 240, 1)\n",
    "data_train = data_train[retained_features_LR].dropna()\n",
    "data_test = data_test[retained_features_LR].dropna()\n",
    "\n",
    "features_train = data_train.drop('num_orders', axis=1)\n",
    "features_test = data_test.drop('num_orders', axis=1)\n",
    "target_train = data_train['num_orders']\n",
    "target_test = data_test['num_orders']\n",
    "\n",
    "model = LinearRegression()\n",
    "model.fit(features_train, target_train)\n",
    "\n",
    "predict_train = pd.Series(model.predict(features_train))\n",
    "predict_test = pd.Series(model.predict(features_test))\n",
    "rmse_train = mean_squared_error(target_train, predict_train) ** 0.5\n",
    "rmse_test = mean_squared_error(target_test, predict_test) ** 0.5\n",
    "\n",
    "print('Linear Regression Model')\n",
    "print(f\"Training RMSE = {rmse_train:.02f}, Testing RMSE = {rmse_test:.02f}\")"
   ]
  },
  {
   "cell_type": "code",
   "execution_count": 27,
   "metadata": {},
   "outputs": [
    {
     "name": "stdout",
     "output_type": "stream",
     "text": [
      "Random Forest Regressor Model\n",
      "Training RMSE = 13.39, Testing RMSE = 41.52\n"
     ]
    }
   ],
   "source": [
    "# Test the optimized random forest regressor model\n",
    "\n",
    "data_train = make_features(df_train, 240, 1)\n",
    "data_test = make_features(df_test, 240, 1)\n",
    "data_train = data_train[retained_features_RF].dropna()\n",
    "data_test = data_test[retained_features_RF].dropna()\n",
    "\n",
    "features_train = data_train.drop('num_orders', axis=1)\n",
    "features_test = data_test.drop('num_orders', axis=1)\n",
    "target_train = data_train['num_orders']\n",
    "target_test = data_test['num_orders']\n",
    "\n",
    "model = RandomForestRegressor(random_state=12345, n_estimators=50, max_depth=10)\n",
    "model.fit(features_train, target_train)\n",
    "\n",
    "predict_train = pd.Series(model.predict(features_train))\n",
    "predict_test = pd.Series(model.predict(features_test))\n",
    "rmse_train = mean_squared_error(target_train, predict_train) ** 0.5\n",
    "rmse_test = mean_squared_error(target_test, predict_test) ** 0.5\n",
    "\n",
    "print('Random Forest Regressor Model')\n",
    "print(f\"Training RMSE = {rmse_train:.02f}, Testing RMSE = {rmse_test:.02f}\")"
   ]
  },
  {
   "cell_type": "code",
   "execution_count": 28,
   "metadata": {},
   "outputs": [
    {
     "name": "stdout",
     "output_type": "stream",
     "text": [
      "ARIMA Model\n",
      "Training RMSE = 26.86, Testing RMSE = 63.27\n"
     ]
    }
   ],
   "source": [
    "# Test the optimized ARIMA model\n",
    "\n",
    "model = ARIMA(df_train, order=(2, 1, 1), seasonal_order=(1, 0, 0, 24), enforce_invertibility=False)\n",
    "model = model.fit()\n",
    "\n",
    "predict_train = model.predict(start=df_train.index[0], end=df_train.index[-1])\n",
    "predict_test = model.forecast(steps=len(df_test))\n",
    "\n",
    "rmse_train = mean_squared_error(df_train, predict_train) ** 0.5\n",
    "rmse_test = mean_squared_error(df_test, predict_test) ** 0.5\n",
    "\n",
    "print('ARIMA Model')\n",
    "print(f\"Training RMSE = {rmse_train:.02f}, Testing RMSE = {rmse_test:.02f}\")"
   ]
  },
  {
   "cell_type": "markdown",
   "metadata": {},
   "source": [
    "I trained the final models with the full training set and tested them against the testing set. Training scores were reasonable, with the random forest regressor model (RMSE = 13.39) outperforming the linear regression model (RMSE = 21.35) and both outperforming the ARIMA model (RMSE = 26.86). The testing scores, on the other hand, were much worse. The linear regression model (RMSE = 36.10) and the random forest regressor model (RMSE = 41.52) handily beat the project threshold (RMSE < 48), but the ARIMA model failed to qualify (RMSE = 63.27).\n",
    "\n",
    "As revealed by plots during exploratory data analysis, the last month of the time series (August) differs somewhat from earlier data. It trends higher and has greater variability. That largely explains the relatively poor performance of all models on the testing set. To some extent, this is an unavoidable consequence of forecasting later data from earlier data. If something changes toward the end of the time series, the training data cannot anticipate it. In this case, maybe the shift in August was a fluke or maybe it represents a fundamental change in taxi demand. I cannot determine that without more data. Either way, the linear regression and random forest regressor models offer adequate performance for the purposes of this project. "
   ]
  },
  {
   "cell_type": "markdown",
   "metadata": {},
   "source": [
    "## Conclusion"
   ]
  },
  {
   "cell_type": "markdown",
   "metadata": {},
   "source": [
    "The purpose of this project was to forecast the number of hourly taxi orders based on historical data from the Sweet Lift Taxi company. The data were appropriate to the project after resampling to one-hour intervals. They showed an increasing trend, a seasonal component at the scale of one day, and autocorrelations spiking at intervals of 24 hours. The time series was also stationary (p < 0.05). \n",
    "\n",
    "I trained and tuned a linear regression model on features created from the time series, including calendar features, lag features, and rolling mean. After testing several specifications, I retained only the most important features as measured by coefficient size. They included month, day of week, day, hour, and various lags. The final linear regression model performed well with an RMSE of 29.01. \n",
    "\n",
    "Next, I trained and tuned a random forest regressor model on features created from the time series using the same procedure as before. The most important features included hour, rolling mean (with a 24-step window), and various lags. I also optimized hyperparameters, finding a reasonable balance of performance and complexity with 50 estimators, max_depth of 10, and an RMSE of 29.74. \n",
    "\n",
    "Finally, I trained and tuned an ARIMA model. I kept the hyperparameter search simple to avoid problems with the kernel crashing and assumed seasonality with a period of one day. The best scoring model had hyperparameters p = 2, d = 1, q = 1, P = 1, D = 0, Q = 0, and an RMSE of 46.89. A plot of predicted vs. actual values showed that the model failed to account for seasonality beyond the first few days, quickly collapsing to a constant model. That explains why it scored so much worse than the other models. Unfortunately, I could not get models with stronger seasonality to run without crashing.\n",
    "\n",
    "All three optimized models were trained and tested on the full training and testing data sets. The test performance was disappointing, though the linear regression (RMSE = 36.10) and random forest regressor (RMSE = 41.52) models performed much better than the ARIMA model (RMSE = 63.27). I suspect the more robust lag terms included in the linear regression model (ranging from two hours to nine days) captured the seasonal component of the data better than the relatively simple ARIMA model. The weak test performance for all models stems from the last month of the time series (comprising the test set) departing noticeably from earlier data by exhibiting a greater mean and dispersion. Without more data, I cannot tell whether that difference represented an aberration or a fundamental shift in taxi demand. More research will be needed to address that. \n",
    "\n",
    "In the end, the linear regression model was the best, outperforming the others and easily beating the project threshold RMSE score of 48. It should serve the Sweet Lift Taxi company well for predicting hourly taxi demand at airports. "
   ]
  },
  {
   "cell_type": "markdown",
   "metadata": {},
   "source": [
    "# Review checklist"
   ]
  },
  {
   "cell_type": "markdown",
   "metadata": {},
   "source": [
    "- [x]  Jupyter Notebook is open\n",
    "- [x]  The code is error-free\n",
    "- [x]  The cells with the code have been arranged in order of execution\n",
    "- [x]  The data has been downloaded and prepared\n",
    "- [x]  The data has been analyzed\n",
    "- [x]  The model has been trained and hyperparameters have been selected\n",
    "- [x]  The models have been evaluated. Conclusion has been provided\n",
    "- [x] *RMSE* for the test set is not more than 48"
   ]
  }
 ],
 "metadata": {
  "ExecuteTimeLog": [
   {
    "duration": 2550,
    "start_time": "2025-03-07T10:17:15.847Z"
   },
   {
    "duration": 24,
    "start_time": "2025-03-07T10:17:18.399Z"
   },
   {
    "duration": 17,
    "start_time": "2025-03-07T10:17:18.425Z"
   },
   {
    "duration": 19,
    "start_time": "2025-03-07T10:17:54.808Z"
   },
   {
    "duration": 14,
    "start_time": "2025-03-07T10:17:55.191Z"
   },
   {
    "duration": 19,
    "start_time": "2025-03-07T10:19:50.237Z"
   },
   {
    "duration": 181,
    "start_time": "2025-03-07T10:22:15.557Z"
   },
   {
    "duration": 5,
    "start_time": "2025-03-07T10:23:14.516Z"
   },
   {
    "duration": 4,
    "start_time": "2025-03-07T10:23:23.317Z"
   },
   {
    "duration": 4,
    "start_time": "2025-03-07T10:23:30.933Z"
   },
   {
    "duration": 171,
    "start_time": "2025-03-07T10:24:29.499Z"
   },
   {
    "duration": 4,
    "start_time": "2025-03-07T10:24:34.235Z"
   },
   {
    "duration": 3,
    "start_time": "2025-03-07T10:24:45.292Z"
   },
   {
    "duration": 179,
    "start_time": "2025-03-07T10:25:04.852Z"
   },
   {
    "duration": 145,
    "start_time": "2025-03-07T10:25:09.884Z"
   },
   {
    "duration": 252,
    "start_time": "2025-03-07T10:25:38.707Z"
   },
   {
    "duration": 195,
    "start_time": "2025-03-07T10:26:00.236Z"
   },
   {
    "duration": 293,
    "start_time": "2025-03-07T10:27:32.443Z"
   },
   {
    "duration": 300,
    "start_time": "2025-03-07T10:28:15.107Z"
   },
   {
    "duration": 5,
    "start_time": "2025-03-07T10:33:34.992Z"
   },
   {
    "duration": 6,
    "start_time": "2025-03-07T10:33:44.456Z"
   },
   {
    "duration": 6,
    "start_time": "2025-03-07T10:33:56.744Z"
   },
   {
    "duration": 5,
    "start_time": "2025-03-07T10:35:54.626Z"
   },
   {
    "duration": 210,
    "start_time": "2025-03-07T10:36:01.311Z"
   },
   {
    "duration": 6,
    "start_time": "2025-03-07T10:38:29.239Z"
   },
   {
    "duration": 417,
    "start_time": "2025-03-07T10:40:26.953Z"
   },
   {
    "duration": 4,
    "start_time": "2025-03-07T10:40:35.668Z"
   },
   {
    "duration": 5,
    "start_time": "2025-03-07T10:46:11.357Z"
   },
   {
    "duration": 8,
    "start_time": "2025-03-07T10:48:12.035Z"
   },
   {
    "duration": 4,
    "start_time": "2025-03-07T10:49:19.645Z"
   },
   {
    "duration": 4,
    "start_time": "2025-03-07T10:49:32.136Z"
   },
   {
    "duration": 7,
    "start_time": "2025-03-07T10:49:44.603Z"
   },
   {
    "duration": 5,
    "start_time": "2025-03-07T10:50:54.862Z"
   },
   {
    "duration": 6,
    "start_time": "2025-03-07T10:51:08.756Z"
   },
   {
    "duration": 6,
    "start_time": "2025-03-07T10:51:16.536Z"
   },
   {
    "duration": 7,
    "start_time": "2025-03-07T10:54:24.671Z"
   },
   {
    "duration": 7,
    "start_time": "2025-03-07T10:54:33.041Z"
   },
   {
    "duration": 10,
    "start_time": "2025-03-07T10:54:37.730Z"
   },
   {
    "duration": 8,
    "start_time": "2025-03-07T10:54:44.163Z"
   },
   {
    "duration": 8,
    "start_time": "2025-03-07T10:55:04.412Z"
   },
   {
    "duration": 7,
    "start_time": "2025-03-07T10:55:14.643Z"
   },
   {
    "duration": 7,
    "start_time": "2025-03-07T10:55:49.179Z"
   },
   {
    "duration": 7,
    "start_time": "2025-03-07T10:57:15.506Z"
   },
   {
    "duration": 7,
    "start_time": "2025-03-07T10:57:19.635Z"
   },
   {
    "duration": 42,
    "start_time": "2025-03-07T11:01:32.248Z"
   },
   {
    "duration": 19,
    "start_time": "2025-03-07T11:02:15.112Z"
   },
   {
    "duration": 109,
    "start_time": "2025-03-07T11:02:15.635Z"
   },
   {
    "duration": 47,
    "start_time": "2025-03-07T11:04:11.992Z"
   },
   {
    "duration": 19,
    "start_time": "2025-03-07T11:04:39.320Z"
   },
   {
    "duration": 166,
    "start_time": "2025-03-07T11:04:39.799Z"
   },
   {
    "duration": 13,
    "start_time": "2025-03-07T11:05:13.961Z"
   },
   {
    "duration": 13,
    "start_time": "2025-03-07T11:05:55.799Z"
   },
   {
    "duration": 6,
    "start_time": "2025-03-07T11:05:56.199Z"
   },
   {
    "duration": 143,
    "start_time": "2025-03-07T11:05:57.127Z"
   },
   {
    "duration": 299,
    "start_time": "2025-03-07T11:06:16.663Z"
   },
   {
    "duration": 8,
    "start_time": "2025-03-07T11:06:55.270Z"
   },
   {
    "duration": 6,
    "start_time": "2025-03-07T11:07:33.889Z"
   },
   {
    "duration": 9,
    "start_time": "2025-03-07T11:08:05.039Z"
   },
   {
    "duration": 221,
    "start_time": "2025-03-07T11:09:36.278Z"
   },
   {
    "duration": 302,
    "start_time": "2025-03-07T11:10:06.878Z"
   },
   {
    "duration": 151,
    "start_time": "2025-03-07T11:10:37.777Z"
   },
   {
    "duration": 299,
    "start_time": "2025-03-07T11:11:00.734Z"
   },
   {
    "duration": 437,
    "start_time": "2025-03-07T11:11:06.004Z"
   },
   {
    "duration": 7,
    "start_time": "2025-03-07T11:11:35.133Z"
   },
   {
    "duration": 22,
    "start_time": "2025-03-07T11:14:41.699Z"
   },
   {
    "duration": 13,
    "start_time": "2025-03-07T11:14:47.057Z"
   },
   {
    "duration": 351,
    "start_time": "2025-03-07T11:15:01.779Z"
   },
   {
    "duration": 7,
    "start_time": "2025-03-07T11:15:50.156Z"
   },
   {
    "duration": 193,
    "start_time": "2025-03-07T11:23:16.204Z"
   },
   {
    "duration": 181,
    "start_time": "2025-03-07T11:23:28.227Z"
   },
   {
    "duration": 114,
    "start_time": "2025-03-07T11:23:39.466Z"
   },
   {
    "duration": 112,
    "start_time": "2025-03-07T11:23:56.722Z"
   },
   {
    "duration": 46,
    "start_time": "2025-03-07T11:26:39.272Z"
   },
   {
    "duration": 237,
    "start_time": "2025-03-07T11:26:55.137Z"
   },
   {
    "duration": 185,
    "start_time": "2025-03-07T11:27:17.994Z"
   },
   {
    "duration": 564,
    "start_time": "2025-03-07T11:28:20.177Z"
   },
   {
    "duration": 14,
    "start_time": "2025-03-07T11:29:58.807Z"
   },
   {
    "duration": 163,
    "start_time": "2025-03-07T11:30:51.087Z"
   },
   {
    "duration": 907,
    "start_time": "2025-03-07T11:31:18.143Z"
   },
   {
    "duration": 25,
    "start_time": "2025-03-07T11:31:19.052Z"
   },
   {
    "duration": 15,
    "start_time": "2025-03-07T11:31:19.079Z"
   },
   {
    "duration": 419,
    "start_time": "2025-03-07T11:31:19.096Z"
   },
   {
    "duration": 12,
    "start_time": "2025-03-07T11:31:19.517Z"
   },
   {
    "duration": 3,
    "start_time": "2025-03-07T11:31:19.531Z"
   },
   {
    "duration": 129,
    "start_time": "2025-03-07T11:31:19.536Z"
   },
   {
    "duration": 466,
    "start_time": "2025-03-07T11:31:19.667Z"
   },
   {
    "duration": 460,
    "start_time": "2025-03-07T11:31:20.135Z"
   },
   {
    "duration": 124,
    "start_time": "2025-03-07T11:32:02.457Z"
   },
   {
    "duration": 2705,
    "start_time": "2025-03-08T08:29:57.760Z"
   },
   {
    "duration": 37,
    "start_time": "2025-03-08T08:30:00.467Z"
   },
   {
    "duration": 20,
    "start_time": "2025-03-08T08:30:00.506Z"
   },
   {
    "duration": 371,
    "start_time": "2025-03-08T08:30:00.528Z"
   },
   {
    "duration": 7,
    "start_time": "2025-03-08T08:30:00.902Z"
   },
   {
    "duration": 14,
    "start_time": "2025-03-08T08:30:00.911Z"
   },
   {
    "duration": 181,
    "start_time": "2025-03-08T08:30:00.926Z"
   },
   {
    "duration": 484,
    "start_time": "2025-03-08T08:30:01.109Z"
   },
   {
    "duration": 239,
    "start_time": "2025-03-08T08:31:58.958Z"
   },
   {
    "duration": 194,
    "start_time": "2025-03-08T08:32:13.550Z"
   },
   {
    "duration": 112,
    "start_time": "2025-03-08T08:32:20.551Z"
   },
   {
    "duration": 442,
    "start_time": "2025-03-08T08:34:54.277Z"
   },
   {
    "duration": 118,
    "start_time": "2025-03-08T08:36:25.092Z"
   },
   {
    "duration": 239,
    "start_time": "2025-03-08T08:37:26.373Z"
   },
   {
    "duration": 468,
    "start_time": "2025-03-08T08:56:14.687Z"
   },
   {
    "duration": 220,
    "start_time": "2025-03-08T08:57:33.645Z"
   },
   {
    "duration": 411,
    "start_time": "2025-03-08T09:00:08.741Z"
   },
   {
    "duration": 589,
    "start_time": "2025-03-08T09:00:13.668Z"
   },
   {
    "duration": 1108,
    "start_time": "2025-03-08T09:03:15.676Z"
   },
   {
    "duration": 25,
    "start_time": "2025-03-08T09:03:16.786Z"
   },
   {
    "duration": 19,
    "start_time": "2025-03-08T09:03:16.813Z"
   },
   {
    "duration": 390,
    "start_time": "2025-03-08T09:03:16.834Z"
   },
   {
    "duration": 7,
    "start_time": "2025-03-08T09:03:17.227Z"
   },
   {
    "duration": 4,
    "start_time": "2025-03-08T09:03:17.236Z"
   },
   {
    "duration": 462,
    "start_time": "2025-03-08T09:03:17.242Z"
   },
   {
    "duration": 336,
    "start_time": "2025-03-08T09:03:17.706Z"
   },
   {
    "duration": 0,
    "start_time": "2025-03-08T09:03:18.044Z"
   },
   {
    "duration": 0,
    "start_time": "2025-03-08T09:03:18.045Z"
   },
   {
    "duration": 0,
    "start_time": "2025-03-08T09:03:18.046Z"
   },
   {
    "duration": 0,
    "start_time": "2025-03-08T09:03:18.047Z"
   },
   {
    "duration": 114,
    "start_time": "2025-03-08T09:03:55.281Z"
   },
   {
    "duration": 428,
    "start_time": "2025-03-08T09:04:01.066Z"
   },
   {
    "duration": 12,
    "start_time": "2025-03-08T09:04:21.026Z"
   },
   {
    "duration": 5,
    "start_time": "2025-03-08T09:07:13.547Z"
   },
   {
    "duration": 1119,
    "start_time": "2025-03-08T09:07:37.299Z"
   },
   {
    "duration": 28,
    "start_time": "2025-03-08T09:07:38.420Z"
   },
   {
    "duration": 17,
    "start_time": "2025-03-08T09:07:38.450Z"
   },
   {
    "duration": 404,
    "start_time": "2025-03-08T09:07:38.469Z"
   },
   {
    "duration": 7,
    "start_time": "2025-03-08T09:07:38.875Z"
   },
   {
    "duration": 484,
    "start_time": "2025-03-08T09:07:38.884Z"
   },
   {
    "duration": 195,
    "start_time": "2025-03-08T09:07:39.370Z"
   },
   {
    "duration": 470,
    "start_time": "2025-03-08T09:07:39.566Z"
   },
   {
    "duration": 14,
    "start_time": "2025-03-08T09:07:40.037Z"
   },
   {
    "duration": 7,
    "start_time": "2025-03-08T09:07:40.053Z"
   },
   {
    "duration": 283,
    "start_time": "2025-03-08T09:07:40.061Z"
   },
   {
    "duration": 0,
    "start_time": "2025-03-08T09:07:40.346Z"
   },
   {
    "duration": 3,
    "start_time": "2025-03-08T09:07:49.481Z"
   },
   {
    "duration": 4,
    "start_time": "2025-03-08T09:08:22.022Z"
   },
   {
    "duration": 7,
    "start_time": "2025-03-08T09:09:10.231Z"
   },
   {
    "duration": 13,
    "start_time": "2025-03-08T09:11:41.830Z"
   },
   {
    "duration": 5,
    "start_time": "2025-03-08T09:15:46.205Z"
   },
   {
    "duration": 3,
    "start_time": "2025-03-08T09:15:57.453Z"
   },
   {
    "duration": 3,
    "start_time": "2025-03-08T09:16:03.117Z"
   },
   {
    "duration": 6,
    "start_time": "2025-03-08T09:27:52.179Z"
   },
   {
    "duration": 171,
    "start_time": "2025-03-08T09:27:53.223Z"
   },
   {
    "duration": 5,
    "start_time": "2025-03-08T09:28:34.592Z"
   },
   {
    "duration": 282,
    "start_time": "2025-03-08T09:28:35.256Z"
   },
   {
    "duration": 6,
    "start_time": "2025-03-08T09:29:15.833Z"
   },
   {
    "duration": 591,
    "start_time": "2025-03-08T09:29:16.054Z"
   },
   {
    "duration": 11,
    "start_time": "2025-03-08T09:30:08.519Z"
   },
   {
    "duration": 11,
    "start_time": "2025-03-08T09:30:58.574Z"
   },
   {
    "duration": 10,
    "start_time": "2025-03-08T09:31:11.951Z"
   },
   {
    "duration": 1085,
    "start_time": "2025-03-08T09:31:37.519Z"
   },
   {
    "duration": 31,
    "start_time": "2025-03-08T09:31:38.606Z"
   },
   {
    "duration": 19,
    "start_time": "2025-03-08T09:31:38.638Z"
   },
   {
    "duration": 375,
    "start_time": "2025-03-08T09:31:38.658Z"
   },
   {
    "duration": 7,
    "start_time": "2025-03-08T09:31:39.036Z"
   },
   {
    "duration": 438,
    "start_time": "2025-03-08T09:31:39.044Z"
   },
   {
    "duration": 179,
    "start_time": "2025-03-08T09:31:39.484Z"
   },
   {
    "duration": 493,
    "start_time": "2025-03-08T09:31:39.665Z"
   },
   {
    "duration": 254,
    "start_time": "2025-03-08T09:31:40.159Z"
   },
   {
    "duration": 0,
    "start_time": "2025-03-08T09:31:40.414Z"
   },
   {
    "duration": 0,
    "start_time": "2025-03-08T09:31:40.416Z"
   },
   {
    "duration": 0,
    "start_time": "2025-03-08T09:31:40.417Z"
   },
   {
    "duration": 0,
    "start_time": "2025-03-08T09:31:40.424Z"
   },
   {
    "duration": 0,
    "start_time": "2025-03-08T09:31:40.425Z"
   },
   {
    "duration": 0,
    "start_time": "2025-03-08T09:31:40.426Z"
   },
   {
    "duration": 0,
    "start_time": "2025-03-08T09:31:40.427Z"
   },
   {
    "duration": 3,
    "start_time": "2025-03-08T09:31:46.382Z"
   },
   {
    "duration": 7,
    "start_time": "2025-03-08T09:31:47.645Z"
   },
   {
    "duration": 10,
    "start_time": "2025-03-08T09:31:48.374Z"
   },
   {
    "duration": 13,
    "start_time": "2025-03-08T09:31:59.430Z"
   },
   {
    "duration": 691,
    "start_time": "2025-03-08T09:32:11.341Z"
   },
   {
    "duration": 6,
    "start_time": "2025-03-08T09:32:31.246Z"
   },
   {
    "duration": 397,
    "start_time": "2025-03-08T09:32:31.645Z"
   },
   {
    "duration": 1505,
    "start_time": "2025-03-08T09:32:55.222Z"
   },
   {
    "duration": 6,
    "start_time": "2025-03-08T09:33:29.135Z"
   },
   {
    "duration": 1730,
    "start_time": "2025-03-08T09:33:29.600Z"
   },
   {
    "duration": 338,
    "start_time": "2025-03-08T09:33:47.301Z"
   },
   {
    "duration": 1114,
    "start_time": "2025-03-08T09:33:56.030Z"
   },
   {
    "duration": 347,
    "start_time": "2025-03-08T09:35:26.893Z"
   },
   {
    "duration": 6,
    "start_time": "2025-03-08T09:39:13.117Z"
   },
   {
    "duration": 30,
    "start_time": "2025-03-08T09:39:26.564Z"
   },
   {
    "duration": 6,
    "start_time": "2025-03-08T09:39:45.155Z"
   },
   {
    "duration": 2364,
    "start_time": "2025-03-08T09:39:45.275Z"
   },
   {
    "duration": 2786,
    "start_time": "2025-03-08T09:40:18.541Z"
   },
   {
    "duration": 27,
    "start_time": "2025-03-08T09:42:39.689Z"
   },
   {
    "duration": 6,
    "start_time": "2025-03-08T09:43:09.203Z"
   },
   {
    "duration": 181,
    "start_time": "2025-03-08T09:43:09.465Z"
   },
   {
    "duration": 1904,
    "start_time": "2025-03-08T09:43:25.331Z"
   },
   {
    "duration": 16,
    "start_time": "2025-03-08T09:44:09.354Z"
   },
   {
    "duration": 678,
    "start_time": "2025-03-08T09:44:19.346Z"
   },
   {
    "duration": 911,
    "start_time": "2025-03-08T09:44:40.841Z"
   },
   {
    "duration": 3477,
    "start_time": "2025-03-08T09:45:11.256Z"
   },
   {
    "duration": 1626,
    "start_time": "2025-03-08T09:45:42.312Z"
   },
   {
    "duration": 3081,
    "start_time": "2025-03-08T09:46:16.153Z"
   },
   {
    "duration": 2441,
    "start_time": "2025-03-08T09:48:20.201Z"
   },
   {
    "duration": 526,
    "start_time": "2025-03-08T09:49:04.512Z"
   },
   {
    "duration": 826,
    "start_time": "2025-03-08T09:49:34.718Z"
   },
   {
    "duration": 2929,
    "start_time": "2025-03-08T09:50:35.015Z"
   },
   {
    "duration": 4358,
    "start_time": "2025-03-08T09:52:00.776Z"
   },
   {
    "duration": 2075,
    "start_time": "2025-03-08T09:54:27.463Z"
   },
   {
    "duration": 6,
    "start_time": "2025-03-08T09:55:17.864Z"
   },
   {
    "duration": 2092,
    "start_time": "2025-03-08T09:55:18.036Z"
   },
   {
    "duration": 6,
    "start_time": "2025-03-08T09:59:21.637Z"
   },
   {
    "duration": 2191,
    "start_time": "2025-03-08T09:59:22.140Z"
   },
   {
    "duration": 5,
    "start_time": "2025-03-08T10:02:17.029Z"
   },
   {
    "duration": 35,
    "start_time": "2025-03-08T10:02:17.715Z"
   },
   {
    "duration": 6,
    "start_time": "2025-03-08T10:02:26.156Z"
   },
   {
    "duration": 2225,
    "start_time": "2025-03-08T10:02:26.620Z"
   },
   {
    "duration": 20,
    "start_time": "2025-03-08T10:02:34.457Z"
   },
   {
    "duration": 18,
    "start_time": "2025-03-08T10:03:22.628Z"
   },
   {
    "duration": 72,
    "start_time": "2025-03-08T10:03:38.059Z"
   },
   {
    "duration": 39,
    "start_time": "2025-03-08T10:04:03.155Z"
   },
   {
    "duration": 39,
    "start_time": "2025-03-08T10:04:33.523Z"
   },
   {
    "duration": 282,
    "start_time": "2025-03-08T10:05:14.451Z"
   },
   {
    "duration": 2422,
    "start_time": "2025-03-08T10:06:35.681Z"
   },
   {
    "duration": 550,
    "start_time": "2025-03-08T10:07:06.451Z"
   },
   {
    "duration": 615,
    "start_time": "2025-03-08T10:07:20.778Z"
   },
   {
    "duration": 255,
    "start_time": "2025-03-08T10:09:42.576Z"
   },
   {
    "duration": 199,
    "start_time": "2025-03-08T10:10:14.977Z"
   },
   {
    "duration": 173,
    "start_time": "2025-03-08T10:11:56.222Z"
   },
   {
    "duration": 4,
    "start_time": "2025-03-08T10:13:03.152Z"
   },
   {
    "duration": 3,
    "start_time": "2025-03-08T10:15:54.113Z"
   },
   {
    "duration": 4,
    "start_time": "2025-03-08T10:16:06.905Z"
   },
   {
    "duration": 4,
    "start_time": "2025-03-08T10:16:18.448Z"
   },
   {
    "duration": 5,
    "start_time": "2025-03-08T10:16:31.455Z"
   },
   {
    "duration": 19,
    "start_time": "2025-03-08T10:16:41.943Z"
   },
   {
    "duration": 5,
    "start_time": "2025-03-08T10:16:44.863Z"
   },
   {
    "duration": 618,
    "start_time": "2025-03-08T10:17:44.958Z"
   },
   {
    "duration": 5,
    "start_time": "2025-03-08T10:18:19.040Z"
   },
   {
    "duration": 616,
    "start_time": "2025-03-08T10:21:36.879Z"
   },
   {
    "duration": 149,
    "start_time": "2025-03-08T10:23:20.454Z"
   },
   {
    "duration": 150,
    "start_time": "2025-03-08T10:24:07.445Z"
   },
   {
    "duration": 103,
    "start_time": "2025-03-08T10:24:55.078Z"
   },
   {
    "duration": 5,
    "start_time": "2025-03-08T10:25:11.926Z"
   },
   {
    "duration": 3,
    "start_time": "2025-03-08T10:25:26.069Z"
   },
   {
    "duration": 315,
    "start_time": "2025-03-08T10:25:29.716Z"
   },
   {
    "duration": 5,
    "start_time": "2025-03-08T10:25:34.795Z"
   },
   {
    "duration": 215,
    "start_time": "2025-03-08T10:25:40.635Z"
   },
   {
    "duration": 100,
    "start_time": "2025-03-08T10:26:15.364Z"
   },
   {
    "duration": 95,
    "start_time": "2025-03-08T10:26:27.154Z"
   },
   {
    "duration": 4,
    "start_time": "2025-03-08T10:26:38.594Z"
   },
   {
    "duration": 97,
    "start_time": "2025-03-08T10:26:52.749Z"
   },
   {
    "duration": 107,
    "start_time": "2025-03-08T10:28:08.474Z"
   },
   {
    "duration": 110,
    "start_time": "2025-03-08T10:28:18.314Z"
   },
   {
    "duration": 106,
    "start_time": "2025-03-08T10:28:29.674Z"
   },
   {
    "duration": 138,
    "start_time": "2025-03-08T10:29:28.411Z"
   },
   {
    "duration": 8749,
    "start_time": "2025-03-08T10:32:23.578Z"
   },
   {
    "duration": 6673,
    "start_time": "2025-03-08T10:33:14.656Z"
   },
   {
    "duration": 1139,
    "start_time": "2025-03-08T10:40:47.270Z"
   },
   {
    "duration": 33,
    "start_time": "2025-03-08T10:40:48.412Z"
   },
   {
    "duration": 15,
    "start_time": "2025-03-08T10:40:48.447Z"
   },
   {
    "duration": 388,
    "start_time": "2025-03-08T10:40:48.463Z"
   },
   {
    "duration": 7,
    "start_time": "2025-03-08T10:40:48.854Z"
   },
   {
    "duration": 481,
    "start_time": "2025-03-08T10:40:48.863Z"
   },
   {
    "duration": 188,
    "start_time": "2025-03-08T10:40:49.346Z"
   },
   {
    "duration": 630,
    "start_time": "2025-03-08T10:40:49.536Z"
   },
   {
    "duration": 5,
    "start_time": "2025-03-08T10:40:50.168Z"
   },
   {
    "duration": 6,
    "start_time": "2025-03-08T10:40:50.175Z"
   },
   {
    "duration": 6557,
    "start_time": "2025-03-08T10:40:50.182Z"
   },
   {
    "duration": 384,
    "start_time": "2025-03-08T10:40:56.741Z"
   },
   {
    "duration": 205,
    "start_time": "2025-03-08T10:40:57.127Z"
   },
   {
    "duration": 351,
    "start_time": "2025-03-08T10:40:57.335Z"
   },
   {
    "duration": 0,
    "start_time": "2025-03-08T10:40:57.688Z"
   },
   {
    "duration": 0,
    "start_time": "2025-03-08T10:40:57.689Z"
   },
   {
    "duration": 323,
    "start_time": "2025-03-08T10:41:54.905Z"
   },
   {
    "duration": 5,
    "start_time": "2025-03-08T10:42:50.576Z"
   },
   {
    "duration": 1138,
    "start_time": "2025-03-08T10:43:05.968Z"
   },
   {
    "duration": 26,
    "start_time": "2025-03-08T10:43:07.109Z"
   },
   {
    "duration": 15,
    "start_time": "2025-03-08T10:43:07.138Z"
   },
   {
    "duration": 388,
    "start_time": "2025-03-08T10:43:07.154Z"
   },
   {
    "duration": 7,
    "start_time": "2025-03-08T10:43:07.545Z"
   },
   {
    "duration": 471,
    "start_time": "2025-03-08T10:43:07.554Z"
   },
   {
    "duration": 199,
    "start_time": "2025-03-08T10:43:08.027Z"
   },
   {
    "duration": 660,
    "start_time": "2025-03-08T10:43:08.228Z"
   },
   {
    "duration": 6,
    "start_time": "2025-03-08T10:43:08.890Z"
   },
   {
    "duration": 5,
    "start_time": "2025-03-08T10:43:08.898Z"
   },
   {
    "duration": 6435,
    "start_time": "2025-03-08T10:43:08.905Z"
   },
   {
    "duration": 384,
    "start_time": "2025-03-08T10:43:15.342Z"
   },
   {
    "duration": 201,
    "start_time": "2025-03-08T10:43:15.732Z"
   },
   {
    "duration": 358,
    "start_time": "2025-03-08T10:43:15.940Z"
   },
   {
    "duration": 0,
    "start_time": "2025-03-08T10:43:16.300Z"
   },
   {
    "duration": 0,
    "start_time": "2025-03-08T10:43:16.301Z"
   },
   {
    "duration": 677,
    "start_time": "2025-03-08T10:44:37.768Z"
   },
   {
    "duration": 472,
    "start_time": "2025-03-08T10:44:54.791Z"
   },
   {
    "duration": 391,
    "start_time": "2025-03-08T10:46:01.102Z"
   },
   {
    "duration": 404,
    "start_time": "2025-03-08T10:46:27.160Z"
   },
   {
    "duration": 362,
    "start_time": "2025-03-08T10:47:00.686Z"
   },
   {
    "duration": 361,
    "start_time": "2025-03-08T10:47:34.093Z"
   },
   {
    "duration": 381,
    "start_time": "2025-03-08T10:47:44.543Z"
   },
   {
    "duration": 364,
    "start_time": "2025-03-08T10:49:42.215Z"
   },
   {
    "duration": 120,
    "start_time": "2025-03-08T10:52:56.838Z"
   },
   {
    "duration": 147,
    "start_time": "2025-03-08T10:53:13.276Z"
   },
   {
    "duration": 116,
    "start_time": "2025-03-08T10:53:24.852Z"
   },
   {
    "duration": 127,
    "start_time": "2025-03-08T11:08:50.528Z"
   },
   {
    "duration": 5,
    "start_time": "2025-03-08T11:09:48.992Z"
   },
   {
    "duration": 20,
    "start_time": "2025-03-08T11:10:25.383Z"
   },
   {
    "duration": 19,
    "start_time": "2025-03-08T11:10:32.727Z"
   },
   {
    "duration": 16,
    "start_time": "2025-03-08T11:10:36.086Z"
   },
   {
    "duration": 9,
    "start_time": "2025-03-08T11:10:40.301Z"
   },
   {
    "duration": 4,
    "start_time": "2025-03-08T11:10:51.774Z"
   },
   {
    "duration": 3,
    "start_time": "2025-03-08T11:10:55.526Z"
   },
   {
    "duration": 216,
    "start_time": "2025-03-08T11:11:05.310Z"
   },
   {
    "duration": 119,
    "start_time": "2025-03-08T11:19:20.346Z"
   },
   {
    "duration": 375,
    "start_time": "2025-03-08T11:20:23.709Z"
   },
   {
    "duration": 506,
    "start_time": "2025-03-08T11:20:40.355Z"
   },
   {
    "duration": 343,
    "start_time": "2025-03-08T11:21:25.851Z"
   },
   {
    "duration": 450,
    "start_time": "2025-03-08T11:22:50.004Z"
   },
   {
    "duration": 393,
    "start_time": "2025-03-08T11:23:11.946Z"
   },
   {
    "duration": 255,
    "start_time": "2025-03-08T11:24:36.970Z"
   },
   {
    "duration": 362,
    "start_time": "2025-03-08T11:25:08.754Z"
   },
   {
    "duration": 265,
    "start_time": "2025-03-08T11:34:46.666Z"
   },
   {
    "duration": 1080,
    "start_time": "2025-03-08T11:36:59.023Z"
   },
   {
    "duration": 30,
    "start_time": "2025-03-08T11:37:00.105Z"
   },
   {
    "duration": 15,
    "start_time": "2025-03-08T11:37:00.137Z"
   },
   {
    "duration": 374,
    "start_time": "2025-03-08T11:37:00.154Z"
   },
   {
    "duration": 8,
    "start_time": "2025-03-08T11:37:00.530Z"
   },
   {
    "duration": 428,
    "start_time": "2025-03-08T11:37:00.540Z"
   },
   {
    "duration": 192,
    "start_time": "2025-03-08T11:37:00.970Z"
   },
   {
    "duration": 614,
    "start_time": "2025-03-08T11:37:01.164Z"
   },
   {
    "duration": 6,
    "start_time": "2025-03-08T11:37:01.780Z"
   },
   {
    "duration": 7,
    "start_time": "2025-03-08T11:37:01.787Z"
   },
   {
    "duration": 6640,
    "start_time": "2025-03-08T11:37:01.795Z"
   },
   {
    "duration": 304,
    "start_time": "2025-03-08T11:37:08.438Z"
   },
   {
    "duration": 484,
    "start_time": "2025-03-08T11:37:08.744Z"
   },
   {
    "duration": 130,
    "start_time": "2025-03-08T11:37:09.231Z"
   },
   {
    "duration": 404,
    "start_time": "2025-03-08T11:37:09.362Z"
   },
   {
    "duration": 0,
    "start_time": "2025-03-08T11:37:09.768Z"
   },
   {
    "duration": 0,
    "start_time": "2025-03-08T11:37:09.769Z"
   },
   {
    "duration": 206,
    "start_time": "2025-03-08T11:37:19.943Z"
   },
   {
    "duration": 4,
    "start_time": "2025-03-08T11:41:59.990Z"
   },
   {
    "duration": 7,
    "start_time": "2025-03-08T11:42:37.012Z"
   },
   {
    "duration": 1155,
    "start_time": "2025-03-08T11:42:44.451Z"
   },
   {
    "duration": 648,
    "start_time": "2025-03-08T11:42:53.114Z"
   },
   {
    "duration": 428,
    "start_time": "2025-03-08T11:46:25.201Z"
   },
   {
    "duration": 341,
    "start_time": "2025-03-08T11:47:06.107Z"
   },
   {
    "duration": 335,
    "start_time": "2025-03-08T11:52:30.771Z"
   },
   {
    "duration": 179,
    "start_time": "2025-03-08T11:52:31.777Z"
   },
   {
    "duration": 207,
    "start_time": "2025-03-08T11:53:24.817Z"
   },
   {
    "duration": 94,
    "start_time": "2025-03-08T12:01:30.591Z"
   },
   {
    "duration": 1130,
    "start_time": "2025-03-08T12:01:44.999Z"
   },
   {
    "duration": 28,
    "start_time": "2025-03-08T12:01:46.131Z"
   },
   {
    "duration": 15,
    "start_time": "2025-03-08T12:01:46.161Z"
   },
   {
    "duration": 382,
    "start_time": "2025-03-08T12:01:46.178Z"
   },
   {
    "duration": 8,
    "start_time": "2025-03-08T12:01:46.562Z"
   },
   {
    "duration": 477,
    "start_time": "2025-03-08T12:01:46.571Z"
   },
   {
    "duration": 192,
    "start_time": "2025-03-08T12:01:47.050Z"
   },
   {
    "duration": 708,
    "start_time": "2025-03-08T12:01:47.245Z"
   },
   {
    "duration": 382,
    "start_time": "2025-03-08T12:01:47.955Z"
   },
   {
    "duration": 8,
    "start_time": "2025-03-08T12:01:48.339Z"
   },
   {
    "duration": 80,
    "start_time": "2025-03-08T12:01:48.348Z"
   },
   {
    "duration": 6607,
    "start_time": "2025-03-08T12:01:48.429Z"
   },
   {
    "duration": 302,
    "start_time": "2025-03-08T12:01:55.042Z"
   },
   {
    "duration": 503,
    "start_time": "2025-03-08T12:01:55.348Z"
   },
   {
    "duration": 128,
    "start_time": "2025-03-08T12:01:55.852Z"
   },
   {
    "duration": 101,
    "start_time": "2025-03-08T12:06:48.211Z"
   },
   {
    "duration": 1231,
    "start_time": "2025-03-08T12:06:54.373Z"
   },
   {
    "duration": 33,
    "start_time": "2025-03-08T12:06:55.607Z"
   },
   {
    "duration": 18,
    "start_time": "2025-03-08T12:06:55.641Z"
   },
   {
    "duration": 399,
    "start_time": "2025-03-08T12:06:55.661Z"
   },
   {
    "duration": 8,
    "start_time": "2025-03-08T12:06:56.063Z"
   },
   {
    "duration": 513,
    "start_time": "2025-03-08T12:06:56.072Z"
   },
   {
    "duration": 201,
    "start_time": "2025-03-08T12:06:56.587Z"
   },
   {
    "duration": 611,
    "start_time": "2025-03-08T12:06:56.790Z"
   },
   {
    "duration": 524,
    "start_time": "2025-03-08T12:06:57.403Z"
   },
   {
    "duration": 8,
    "start_time": "2025-03-08T12:06:57.929Z"
   },
   {
    "duration": 6,
    "start_time": "2025-03-08T12:06:57.939Z"
   },
   {
    "duration": 6678,
    "start_time": "2025-03-08T12:06:57.947Z"
   },
   {
    "duration": 307,
    "start_time": "2025-03-08T12:07:04.628Z"
   },
   {
    "duration": 470,
    "start_time": "2025-03-08T12:07:04.939Z"
   },
   {
    "duration": 217,
    "start_time": "2025-03-08T12:07:05.411Z"
   },
   {
    "duration": 1184,
    "start_time": "2025-03-08T12:19:58.776Z"
   },
   {
    "duration": 31,
    "start_time": "2025-03-08T12:19:59.962Z"
   },
   {
    "duration": 17,
    "start_time": "2025-03-08T12:19:59.994Z"
   },
   {
    "duration": 393,
    "start_time": "2025-03-08T12:20:00.025Z"
   },
   {
    "duration": 7,
    "start_time": "2025-03-08T12:20:00.421Z"
   },
   {
    "duration": 447,
    "start_time": "2025-03-08T12:20:00.430Z"
   },
   {
    "duration": 224,
    "start_time": "2025-03-08T12:20:00.879Z"
   },
   {
    "duration": 621,
    "start_time": "2025-03-08T12:20:01.105Z"
   },
   {
    "duration": 414,
    "start_time": "2025-03-08T12:20:01.728Z"
   },
   {
    "duration": 81,
    "start_time": "2025-03-08T12:20:02.144Z"
   },
   {
    "duration": 6,
    "start_time": "2025-03-08T12:20:02.227Z"
   },
   {
    "duration": 6590,
    "start_time": "2025-03-08T12:20:02.237Z"
   },
   {
    "duration": 317,
    "start_time": "2025-03-08T12:20:08.829Z"
   },
   {
    "duration": 488,
    "start_time": "2025-03-08T12:20:09.150Z"
   },
   {
    "duration": 125,
    "start_time": "2025-03-08T12:20:09.640Z"
   },
   {
    "duration": 393,
    "start_time": "2025-03-08T12:20:09.767Z"
   },
   {
    "duration": 0,
    "start_time": "2025-03-08T12:20:10.162Z"
   },
   {
    "duration": 0,
    "start_time": "2025-03-08T12:20:10.163Z"
   },
   {
    "duration": 0,
    "start_time": "2025-03-08T12:20:10.164Z"
   },
   {
    "duration": 0,
    "start_time": "2025-03-08T12:20:10.165Z"
   },
   {
    "duration": 0,
    "start_time": "2025-03-08T12:20:10.167Z"
   },
   {
    "duration": 0,
    "start_time": "2025-03-08T12:20:10.168Z"
   },
   {
    "duration": 7,
    "start_time": "2025-03-08T12:20:33.944Z"
   },
   {
    "duration": 1143,
    "start_time": "2025-03-08T12:34:09.268Z"
   },
   {
    "duration": 29,
    "start_time": "2025-03-08T12:34:10.413Z"
   },
   {
    "duration": 16,
    "start_time": "2025-03-08T12:34:10.444Z"
   },
   {
    "duration": 382,
    "start_time": "2025-03-08T12:34:10.461Z"
   },
   {
    "duration": 7,
    "start_time": "2025-03-08T12:34:10.846Z"
   },
   {
    "duration": 457,
    "start_time": "2025-03-08T12:34:10.855Z"
   },
   {
    "duration": 194,
    "start_time": "2025-03-08T12:34:11.315Z"
   },
   {
    "duration": 637,
    "start_time": "2025-03-08T12:34:11.510Z"
   },
   {
    "duration": 475,
    "start_time": "2025-03-08T12:34:12.149Z"
   },
   {
    "duration": 8,
    "start_time": "2025-03-08T12:34:12.626Z"
   },
   {
    "duration": 8,
    "start_time": "2025-03-08T12:34:12.638Z"
   },
   {
    "duration": 6713,
    "start_time": "2025-03-08T12:34:12.726Z"
   },
   {
    "duration": 383,
    "start_time": "2025-03-08T12:34:19.441Z"
   },
   {
    "duration": 441,
    "start_time": "2025-03-08T12:34:19.828Z"
   },
   {
    "duration": 155,
    "start_time": "2025-03-08T12:34:20.271Z"
   },
   {
    "duration": 336,
    "start_time": "2025-03-08T12:34:20.428Z"
   },
   {
    "duration": 0,
    "start_time": "2025-03-08T12:34:20.766Z"
   },
   {
    "duration": 0,
    "start_time": "2025-03-08T12:34:20.767Z"
   },
   {
    "duration": 0,
    "start_time": "2025-03-08T12:34:20.769Z"
   },
   {
    "duration": 0,
    "start_time": "2025-03-08T12:34:20.770Z"
   },
   {
    "duration": 0,
    "start_time": "2025-03-08T12:34:20.771Z"
   },
   {
    "duration": 0,
    "start_time": "2025-03-08T12:34:20.772Z"
   },
   {
    "duration": 1123,
    "start_time": "2025-03-08T12:44:34.715Z"
   },
   {
    "duration": 30,
    "start_time": "2025-03-08T12:44:35.841Z"
   },
   {
    "duration": 17,
    "start_time": "2025-03-08T12:44:35.872Z"
   },
   {
    "duration": 379,
    "start_time": "2025-03-08T12:44:35.890Z"
   },
   {
    "duration": 7,
    "start_time": "2025-03-08T12:44:36.272Z"
   },
   {
    "duration": 475,
    "start_time": "2025-03-08T12:44:36.281Z"
   },
   {
    "duration": 198,
    "start_time": "2025-03-08T12:44:36.758Z"
   },
   {
    "duration": 625,
    "start_time": "2025-03-08T12:44:36.958Z"
   },
   {
    "duration": 349,
    "start_time": "2025-03-08T12:44:37.585Z"
   },
   {
    "duration": 7,
    "start_time": "2025-03-08T12:44:37.935Z"
   },
   {
    "duration": 5,
    "start_time": "2025-03-08T12:44:37.944Z"
   },
   {
    "duration": 6494,
    "start_time": "2025-03-08T12:44:37.951Z"
   },
   {
    "duration": 384,
    "start_time": "2025-03-08T12:44:44.447Z"
   },
   {
    "duration": 447,
    "start_time": "2025-03-08T12:44:44.834Z"
   },
   {
    "duration": 149,
    "start_time": "2025-03-08T12:44:45.282Z"
   },
   {
    "duration": 1143,
    "start_time": "2025-03-08T12:52:24.469Z"
   },
   {
    "duration": 29,
    "start_time": "2025-03-08T12:52:25.615Z"
   },
   {
    "duration": 16,
    "start_time": "2025-03-08T12:52:25.645Z"
   },
   {
    "duration": 386,
    "start_time": "2025-03-08T12:52:25.663Z"
   },
   {
    "duration": 7,
    "start_time": "2025-03-08T12:52:26.052Z"
   },
   {
    "duration": 464,
    "start_time": "2025-03-08T12:52:26.060Z"
   },
   {
    "duration": 198,
    "start_time": "2025-03-08T12:52:26.526Z"
   },
   {
    "duration": 698,
    "start_time": "2025-03-08T12:52:26.726Z"
   },
   {
    "duration": 423,
    "start_time": "2025-03-08T12:52:27.425Z"
   },
   {
    "duration": 82,
    "start_time": "2025-03-08T12:52:27.849Z"
   },
   {
    "duration": 7,
    "start_time": "2025-03-08T12:52:27.934Z"
   },
   {
    "duration": 6302,
    "start_time": "2025-03-08T12:52:27.943Z"
   },
   {
    "duration": 379,
    "start_time": "2025-03-08T12:52:34.247Z"
   },
   {
    "duration": 447,
    "start_time": "2025-03-08T12:52:34.629Z"
   },
   {
    "duration": 150,
    "start_time": "2025-03-08T12:52:35.078Z"
   },
   {
    "duration": 51538,
    "start_time": "2025-03-08T12:52:35.231Z"
   },
   {
    "duration": 267,
    "start_time": "2025-03-08T12:53:26.770Z"
   },
   {
    "duration": 0,
    "start_time": "2025-03-08T12:53:27.039Z"
   },
   {
    "duration": 0,
    "start_time": "2025-03-08T12:53:27.040Z"
   },
   {
    "duration": 0,
    "start_time": "2025-03-08T12:53:27.041Z"
   },
   {
    "duration": 0,
    "start_time": "2025-03-08T12:53:27.042Z"
   },
   {
    "duration": 16,
    "start_time": "2025-03-08T13:01:03.954Z"
   },
   {
    "duration": 16,
    "start_time": "2025-03-08T13:01:25.569Z"
   },
   {
    "duration": 9,
    "start_time": "2025-03-08T13:01:43.978Z"
   },
   {
    "duration": 9,
    "start_time": "2025-03-08T13:02:11.962Z"
   },
   {
    "duration": 3,
    "start_time": "2025-03-08T13:02:45.922Z"
   },
   {
    "duration": 23,
    "start_time": "2025-03-08T13:04:05.536Z"
   },
   {
    "duration": 160,
    "start_time": "2025-03-08T13:05:19.866Z"
   },
   {
    "duration": 441,
    "start_time": "2025-03-08T13:06:28.160Z"
   },
   {
    "duration": 161,
    "start_time": "2025-03-08T13:08:03.048Z"
   },
   {
    "duration": 187,
    "start_time": "2025-03-08T13:09:00.408Z"
   },
   {
    "duration": 311,
    "start_time": "2025-03-08T13:10:21.551Z"
   },
   {
    "duration": 195,
    "start_time": "2025-03-08T13:15:40.174Z"
   },
   {
    "duration": 1087,
    "start_time": "2025-03-08T13:16:59.199Z"
   },
   {
    "duration": 26,
    "start_time": "2025-03-08T13:17:00.288Z"
   },
   {
    "duration": 20,
    "start_time": "2025-03-08T13:17:00.316Z"
   },
   {
    "duration": 384,
    "start_time": "2025-03-08T13:17:00.338Z"
   },
   {
    "duration": 7,
    "start_time": "2025-03-08T13:17:00.724Z"
   },
   {
    "duration": 447,
    "start_time": "2025-03-08T13:17:00.733Z"
   },
   {
    "duration": 206,
    "start_time": "2025-03-08T13:17:01.183Z"
   },
   {
    "duration": 602,
    "start_time": "2025-03-08T13:17:01.391Z"
   },
   {
    "duration": 434,
    "start_time": "2025-03-08T13:17:01.995Z"
   },
   {
    "duration": 7,
    "start_time": "2025-03-08T13:17:02.432Z"
   },
   {
    "duration": 5,
    "start_time": "2025-03-08T13:17:02.441Z"
   },
   {
    "duration": 6487,
    "start_time": "2025-03-08T13:17:02.448Z"
   },
   {
    "duration": 308,
    "start_time": "2025-03-08T13:17:08.936Z"
   },
   {
    "duration": 499,
    "start_time": "2025-03-08T13:17:09.246Z"
   },
   {
    "duration": 178,
    "start_time": "2025-03-08T13:17:09.747Z"
   },
   {
    "duration": 1159,
    "start_time": "2025-03-08T13:19:53.624Z"
   },
   {
    "duration": 29,
    "start_time": "2025-03-08T13:19:54.787Z"
   },
   {
    "duration": 18,
    "start_time": "2025-03-08T13:19:54.818Z"
   },
   {
    "duration": 376,
    "start_time": "2025-03-08T13:19:54.837Z"
   },
   {
    "duration": 11,
    "start_time": "2025-03-08T13:19:55.215Z"
   },
   {
    "duration": 448,
    "start_time": "2025-03-08T13:19:55.228Z"
   },
   {
    "duration": 190,
    "start_time": "2025-03-08T13:19:55.679Z"
   },
   {
    "duration": 611,
    "start_time": "2025-03-08T13:19:55.872Z"
   },
   {
    "duration": 368,
    "start_time": "2025-03-08T13:19:56.485Z"
   },
   {
    "duration": 71,
    "start_time": "2025-03-08T13:19:56.855Z"
   },
   {
    "duration": 6,
    "start_time": "2025-03-08T13:19:56.928Z"
   },
   {
    "duration": 6489,
    "start_time": "2025-03-08T13:19:56.936Z"
   },
   {
    "duration": 306,
    "start_time": "2025-03-08T13:20:03.427Z"
   },
   {
    "duration": 476,
    "start_time": "2025-03-08T13:20:03.737Z"
   },
   {
    "duration": 130,
    "start_time": "2025-03-08T13:20:04.215Z"
   },
   {
    "duration": 1169,
    "start_time": "2025-03-08T13:25:32.656Z"
   },
   {
    "duration": 32,
    "start_time": "2025-03-08T13:25:33.828Z"
   },
   {
    "duration": 27,
    "start_time": "2025-03-08T13:25:33.862Z"
   },
   {
    "duration": 383,
    "start_time": "2025-03-08T13:25:33.892Z"
   },
   {
    "duration": 8,
    "start_time": "2025-03-08T13:25:34.278Z"
   },
   {
    "duration": 460,
    "start_time": "2025-03-08T13:25:34.288Z"
   },
   {
    "duration": 197,
    "start_time": "2025-03-08T13:25:34.750Z"
   },
   {
    "duration": 605,
    "start_time": "2025-03-08T13:25:34.951Z"
   },
   {
    "duration": 468,
    "start_time": "2025-03-08T13:25:35.558Z"
   },
   {
    "duration": 7,
    "start_time": "2025-03-08T13:25:36.027Z"
   },
   {
    "duration": 5,
    "start_time": "2025-03-08T13:25:36.036Z"
   },
   {
    "duration": 6692,
    "start_time": "2025-03-08T13:25:36.043Z"
   },
   {
    "duration": 394,
    "start_time": "2025-03-08T13:25:42.739Z"
   },
   {
    "duration": 435,
    "start_time": "2025-03-08T13:25:43.139Z"
   },
   {
    "duration": 164,
    "start_time": "2025-03-08T13:25:43.577Z"
   },
   {
    "duration": 1161,
    "start_time": "2025-03-08T13:30:13.453Z"
   },
   {
    "duration": 29,
    "start_time": "2025-03-08T13:30:14.617Z"
   },
   {
    "duration": 15,
    "start_time": "2025-03-08T13:30:14.648Z"
   },
   {
    "duration": 373,
    "start_time": "2025-03-08T13:30:14.665Z"
   },
   {
    "duration": 6,
    "start_time": "2025-03-08T13:30:15.041Z"
   },
   {
    "duration": 471,
    "start_time": "2025-03-08T13:30:15.049Z"
   },
   {
    "duration": 197,
    "start_time": "2025-03-08T13:30:15.522Z"
   },
   {
    "duration": 645,
    "start_time": "2025-03-08T13:30:15.723Z"
   },
   {
    "duration": 456,
    "start_time": "2025-03-08T13:30:16.370Z"
   },
   {
    "duration": 7,
    "start_time": "2025-03-08T13:30:16.829Z"
   },
   {
    "duration": 8,
    "start_time": "2025-03-08T13:30:16.838Z"
   },
   {
    "duration": 6593,
    "start_time": "2025-03-08T13:30:16.848Z"
   },
   {
    "duration": 381,
    "start_time": "2025-03-08T13:30:23.444Z"
   },
   {
    "duration": 439,
    "start_time": "2025-03-08T13:30:23.829Z"
   },
   {
    "duration": 159,
    "start_time": "2025-03-08T13:30:24.270Z"
   },
   {
    "duration": 6998,
    "start_time": "2025-03-08T13:30:24.431Z"
   },
   {
    "duration": 224,
    "start_time": "2025-03-08T13:30:31.430Z"
   },
   {
    "duration": 326,
    "start_time": "2025-03-08T13:30:31.656Z"
   },
   {
    "duration": 359,
    "start_time": "2025-03-08T13:30:31.984Z"
   },
   {
    "duration": 0,
    "start_time": "2025-03-08T13:30:32.345Z"
   },
   {
    "duration": 85915,
    "start_time": "2025-03-08T13:36:36.542Z"
   },
   {
    "duration": 203,
    "start_time": "2025-03-08T13:38:02.460Z"
   },
   {
    "duration": 312,
    "start_time": "2025-03-08T13:38:02.667Z"
   },
   {
    "duration": 198766,
    "start_time": "2025-03-08T13:43:11.388Z"
   },
   {
    "duration": 195,
    "start_time": "2025-03-08T13:46:30.158Z"
   },
   {
    "duration": 330,
    "start_time": "2025-03-08T13:46:30.355Z"
   },
   {
    "duration": 182,
    "start_time": "2025-03-08T13:47:11.401Z"
   },
   {
    "duration": 1158,
    "start_time": "2025-03-08T13:53:51.996Z"
   },
   {
    "duration": 30,
    "start_time": "2025-03-08T13:53:53.157Z"
   },
   {
    "duration": 17,
    "start_time": "2025-03-08T13:53:53.188Z"
   },
   {
    "duration": 398,
    "start_time": "2025-03-08T13:53:53.207Z"
   },
   {
    "duration": 16,
    "start_time": "2025-03-08T13:53:53.608Z"
   },
   {
    "duration": 467,
    "start_time": "2025-03-08T13:53:53.626Z"
   },
   {
    "duration": 203,
    "start_time": "2025-03-08T13:53:54.095Z"
   },
   {
    "duration": 623,
    "start_time": "2025-03-08T13:53:54.301Z"
   },
   {
    "duration": 417,
    "start_time": "2025-03-08T13:53:54.926Z"
   },
   {
    "duration": 80,
    "start_time": "2025-03-08T13:53:55.345Z"
   },
   {
    "duration": 7,
    "start_time": "2025-03-08T13:53:55.427Z"
   },
   {
    "duration": 6596,
    "start_time": "2025-03-08T13:53:55.441Z"
   },
   {
    "duration": 395,
    "start_time": "2025-03-08T13:54:02.040Z"
   },
   {
    "duration": 472,
    "start_time": "2025-03-08T13:54:02.439Z"
   },
   {
    "duration": 138,
    "start_time": "2025-03-08T13:54:02.913Z"
   },
   {
    "duration": 45266,
    "start_time": "2025-03-08T13:54:03.053Z"
   },
   {
    "duration": 191,
    "start_time": "2025-03-08T13:54:48.323Z"
   },
   {
    "duration": 324,
    "start_time": "2025-03-08T13:54:48.516Z"
   },
   {
    "duration": 343,
    "start_time": "2025-03-08T13:54:48.841Z"
   },
   {
    "duration": 0,
    "start_time": "2025-03-08T13:54:49.186Z"
   },
   {
    "duration": 44652,
    "start_time": "2025-03-08T13:57:06.625Z"
   },
   {
    "duration": 212,
    "start_time": "2025-03-08T13:57:51.280Z"
   },
   {
    "duration": 332,
    "start_time": "2025-03-08T13:57:51.494Z"
   },
   {
    "duration": 98,
    "start_time": "2025-03-08T13:59:36.864Z"
   },
   {
    "duration": 145,
    "start_time": "2025-03-08T13:59:37.119Z"
   },
   {
    "duration": 16,
    "start_time": "2025-03-08T13:59:37.942Z"
   },
   {
    "duration": 1201,
    "start_time": "2025-03-08T13:59:43.245Z"
   },
   {
    "duration": 28,
    "start_time": "2025-03-08T13:59:44.449Z"
   },
   {
    "duration": 17,
    "start_time": "2025-03-08T13:59:44.479Z"
   },
   {
    "duration": 399,
    "start_time": "2025-03-08T13:59:44.498Z"
   },
   {
    "duration": 15,
    "start_time": "2025-03-08T13:59:44.900Z"
   },
   {
    "duration": 459,
    "start_time": "2025-03-08T13:59:44.917Z"
   },
   {
    "duration": 218,
    "start_time": "2025-03-08T13:59:45.378Z"
   },
   {
    "duration": 598,
    "start_time": "2025-03-08T13:59:45.598Z"
   },
   {
    "duration": 443,
    "start_time": "2025-03-08T13:59:46.198Z"
   },
   {
    "duration": 84,
    "start_time": "2025-03-08T13:59:46.643Z"
   },
   {
    "duration": 5,
    "start_time": "2025-03-08T13:59:46.730Z"
   },
   {
    "duration": 6988,
    "start_time": "2025-03-08T13:59:46.740Z"
   },
   {
    "duration": 302,
    "start_time": "2025-03-08T13:59:53.731Z"
   },
   {
    "duration": 468,
    "start_time": "2025-03-08T13:59:54.040Z"
   },
   {
    "duration": 138,
    "start_time": "2025-03-08T13:59:54.510Z"
   },
   {
    "duration": 44881,
    "start_time": "2025-03-08T13:59:54.650Z"
   },
   {
    "duration": 197,
    "start_time": "2025-03-08T14:00:39.533Z"
   },
   {
    "duration": 322,
    "start_time": "2025-03-08T14:00:39.732Z"
   },
   {
    "duration": 351,
    "start_time": "2025-03-08T14:00:40.056Z"
   },
   {
    "duration": 0,
    "start_time": "2025-03-08T14:00:40.409Z"
   },
   {
    "duration": 133535,
    "start_time": "2025-03-08T14:05:58.934Z"
   },
   {
    "duration": 194,
    "start_time": "2025-03-08T14:08:12.472Z"
   },
   {
    "duration": 307,
    "start_time": "2025-03-08T14:08:12.668Z"
   },
   {
    "duration": 260,
    "start_time": "2025-03-08T14:09:58.835Z"
   },
   {
    "duration": 179,
    "start_time": "2025-03-08T14:10:24.803Z"
   },
   {
    "duration": 2814,
    "start_time": "2025-03-09T00:45:59.420Z"
   },
   {
    "duration": 36,
    "start_time": "2025-03-09T00:46:02.236Z"
   },
   {
    "duration": 16,
    "start_time": "2025-03-09T00:46:02.274Z"
   },
   {
    "duration": 433,
    "start_time": "2025-03-09T00:46:02.292Z"
   },
   {
    "duration": 15,
    "start_time": "2025-03-09T00:46:02.727Z"
   },
   {
    "duration": 459,
    "start_time": "2025-03-09T00:46:02.744Z"
   },
   {
    "duration": 121,
    "start_time": "2025-03-09T00:46:03.205Z"
   },
   {
    "duration": 656,
    "start_time": "2025-03-09T00:46:03.329Z"
   },
   {
    "duration": 462,
    "start_time": "2025-03-09T00:46:03.987Z"
   },
   {
    "duration": 7,
    "start_time": "2025-03-09T00:46:04.451Z"
   },
   {
    "duration": 5,
    "start_time": "2025-03-09T00:46:04.460Z"
   },
   {
    "duration": 6678,
    "start_time": "2025-03-09T00:46:04.467Z"
   },
   {
    "duration": 307,
    "start_time": "2025-03-09T00:46:11.149Z"
   },
   {
    "duration": 471,
    "start_time": "2025-03-09T00:46:11.459Z"
   },
   {
    "duration": 216,
    "start_time": "2025-03-09T00:46:11.932Z"
   },
   {
    "duration": 132475,
    "start_time": "2025-03-09T00:46:12.150Z"
   },
   {
    "duration": 226,
    "start_time": "2025-03-09T00:48:24.627Z"
   },
   {
    "duration": 306,
    "start_time": "2025-03-09T00:48:24.855Z"
   },
   {
    "duration": 266,
    "start_time": "2025-03-09T00:48:25.163Z"
   },
   {
    "duration": 0,
    "start_time": "2025-03-09T00:48:25.431Z"
   },
   {
    "duration": 222,
    "start_time": "2025-03-09T00:49:26.840Z"
   },
   {
    "duration": 19,
    "start_time": "2025-03-09T00:49:27.262Z"
   },
   {
    "duration": 1009,
    "start_time": "2025-03-09T00:49:59.518Z"
   },
   {
    "duration": 52,
    "start_time": "2025-03-09T00:55:56.917Z"
   },
   {
    "duration": 133449,
    "start_time": "2025-03-09T01:10:43.536Z"
   },
   {
    "duration": 180,
    "start_time": "2025-03-09T01:14:39.197Z"
   },
   {
    "duration": 132944,
    "start_time": "2025-03-09T01:15:58.148Z"
   },
   {
    "duration": 132954,
    "start_time": "2025-03-09T01:25:30.420Z"
   },
   {
    "duration": 132489,
    "start_time": "2025-03-09T01:28:42.385Z"
   },
   {
    "duration": 187,
    "start_time": "2025-03-09T01:32:01.865Z"
   },
   {
    "duration": 132833,
    "start_time": "2025-03-09T01:34:33.247Z"
   },
   {
    "duration": 133202,
    "start_time": "2025-03-09T01:37:23.573Z"
   },
   {
    "duration": 157568,
    "start_time": "2025-03-09T01:40:54.224Z"
   },
   {
    "duration": 187,
    "start_time": "2025-03-09T01:46:04.627Z"
   },
   {
    "duration": 157392,
    "start_time": "2025-03-09T01:46:38.594Z"
   },
   {
    "duration": 1101,
    "start_time": "2025-03-09T02:00:51.095Z"
   },
   {
    "duration": 29,
    "start_time": "2025-03-09T02:00:52.198Z"
   },
   {
    "duration": 21,
    "start_time": "2025-03-09T02:00:52.228Z"
   },
   {
    "duration": 377,
    "start_time": "2025-03-09T02:00:52.251Z"
   },
   {
    "duration": 13,
    "start_time": "2025-03-09T02:00:52.631Z"
   },
   {
    "duration": 443,
    "start_time": "2025-03-09T02:00:52.645Z"
   },
   {
    "duration": 179,
    "start_time": "2025-03-09T02:00:53.089Z"
   },
   {
    "duration": 644,
    "start_time": "2025-03-09T02:00:53.270Z"
   },
   {
    "duration": 435,
    "start_time": "2025-03-09T02:00:53.915Z"
   },
   {
    "duration": 7,
    "start_time": "2025-03-09T02:00:54.352Z"
   },
   {
    "duration": 85,
    "start_time": "2025-03-09T02:00:54.360Z"
   },
   {
    "duration": 6620,
    "start_time": "2025-03-09T02:00:54.449Z"
   },
   {
    "duration": 299,
    "start_time": "2025-03-09T02:01:01.144Z"
   },
   {
    "duration": 432,
    "start_time": "2025-03-09T02:01:01.447Z"
   },
   {
    "duration": 130,
    "start_time": "2025-03-09T02:01:01.882Z"
   },
   {
    "duration": 133890,
    "start_time": "2025-03-09T02:01:02.042Z"
   },
   {
    "duration": 209,
    "start_time": "2025-03-09T02:03:15.934Z"
   },
   {
    "duration": 1088,
    "start_time": "2025-03-09T02:03:16.145Z"
   },
   {
    "duration": 0,
    "start_time": "2025-03-09T02:03:17.236Z"
   },
   {
    "duration": 0,
    "start_time": "2025-03-09T02:03:17.243Z"
   },
   {
    "duration": 0,
    "start_time": "2025-03-09T02:03:17.244Z"
   },
   {
    "duration": 0,
    "start_time": "2025-03-09T02:03:17.246Z"
   },
   {
    "duration": 0,
    "start_time": "2025-03-09T02:03:17.247Z"
   },
   {
    "duration": 0,
    "start_time": "2025-03-09T02:03:17.249Z"
   },
   {
    "duration": 10250,
    "start_time": "2025-03-09T02:05:34.612Z"
   },
   {
    "duration": 178,
    "start_time": "2025-03-09T02:07:13.682Z"
   },
   {
    "duration": 326,
    "start_time": "2025-03-09T02:07:18.564Z"
   },
   {
    "duration": 112,
    "start_time": "2025-03-09T02:07:25.716Z"
   },
   {
    "duration": 19,
    "start_time": "2025-03-09T02:07:25.938Z"
   },
   {
    "duration": 5,
    "start_time": "2025-03-09T02:08:50.466Z"
   },
   {
    "duration": 18,
    "start_time": "2025-03-09T02:10:44.557Z"
   },
   {
    "duration": 4,
    "start_time": "2025-03-09T02:11:36.450Z"
   },
   {
    "duration": 4,
    "start_time": "2025-03-09T02:12:25.258Z"
   },
   {
    "duration": 7,
    "start_time": "2025-03-09T02:13:04.715Z"
   },
   {
    "duration": 5,
    "start_time": "2025-03-09T02:13:40.704Z"
   },
   {
    "duration": 4,
    "start_time": "2025-03-09T02:14:26.549Z"
   },
   {
    "duration": 4,
    "start_time": "2025-03-09T02:14:50.513Z"
   },
   {
    "duration": 5,
    "start_time": "2025-03-09T02:20:32.562Z"
   },
   {
    "duration": 491,
    "start_time": "2025-03-09T02:21:12.630Z"
   },
   {
    "duration": 1092,
    "start_time": "2025-03-09T02:24:00.104Z"
   },
   {
    "duration": 26,
    "start_time": "2025-03-09T02:24:01.199Z"
   },
   {
    "duration": 18,
    "start_time": "2025-03-09T02:24:01.227Z"
   },
   {
    "duration": 378,
    "start_time": "2025-03-09T02:24:01.247Z"
   },
   {
    "duration": 16,
    "start_time": "2025-03-09T02:24:01.628Z"
   },
   {
    "duration": 454,
    "start_time": "2025-03-09T02:24:01.645Z"
   },
   {
    "duration": 192,
    "start_time": "2025-03-09T02:24:02.101Z"
   },
   {
    "duration": 617,
    "start_time": "2025-03-09T02:24:02.295Z"
   },
   {
    "duration": 449,
    "start_time": "2025-03-09T02:24:02.914Z"
   },
   {
    "duration": 79,
    "start_time": "2025-03-09T02:24:03.366Z"
   },
   {
    "duration": 6,
    "start_time": "2025-03-09T02:24:03.447Z"
   },
   {
    "duration": 6508,
    "start_time": "2025-03-09T02:24:03.457Z"
   },
   {
    "duration": 388,
    "start_time": "2025-03-09T02:24:09.967Z"
   },
   {
    "duration": 487,
    "start_time": "2025-03-09T02:24:10.358Z"
   },
   {
    "duration": 199,
    "start_time": "2025-03-09T02:24:10.847Z"
   },
   {
    "duration": 133991,
    "start_time": "2025-03-09T02:24:11.050Z"
   },
   {
    "duration": 201,
    "start_time": "2025-03-09T02:26:25.043Z"
   },
   {
    "duration": 300,
    "start_time": "2025-03-09T02:26:25.246Z"
   },
   {
    "duration": 3,
    "start_time": "2025-03-09T02:26:25.548Z"
   },
   {
    "duration": 5,
    "start_time": "2025-03-09T02:26:25.553Z"
   },
   {
    "duration": 355,
    "start_time": "2025-03-09T02:26:25.560Z"
   },
   {
    "duration": 0,
    "start_time": "2025-03-09T02:26:25.916Z"
   },
   {
    "duration": 0,
    "start_time": "2025-03-09T02:26:25.917Z"
   },
   {
    "duration": 0,
    "start_time": "2025-03-09T02:26:25.918Z"
   },
   {
    "duration": 1094,
    "start_time": "2025-03-09T02:38:30.530Z"
   },
   {
    "duration": 33,
    "start_time": "2025-03-09T02:38:31.626Z"
   },
   {
    "duration": 19,
    "start_time": "2025-03-09T02:38:31.662Z"
   },
   {
    "duration": 392,
    "start_time": "2025-03-09T02:38:31.685Z"
   },
   {
    "duration": 7,
    "start_time": "2025-03-09T02:38:32.079Z"
   },
   {
    "duration": 536,
    "start_time": "2025-03-09T02:38:32.088Z"
   },
   {
    "duration": 191,
    "start_time": "2025-03-09T02:38:32.626Z"
   },
   {
    "duration": 626,
    "start_time": "2025-03-09T02:38:32.819Z"
   },
   {
    "duration": 405,
    "start_time": "2025-03-09T02:38:33.446Z"
   },
   {
    "duration": 7,
    "start_time": "2025-03-09T02:38:33.854Z"
   },
   {
    "duration": 82,
    "start_time": "2025-03-09T02:38:33.863Z"
   },
   {
    "duration": 6704,
    "start_time": "2025-03-09T02:38:33.950Z"
   },
   {
    "duration": 302,
    "start_time": "2025-03-09T02:38:40.663Z"
   },
   {
    "duration": 496,
    "start_time": "2025-03-09T02:38:40.966Z"
   },
   {
    "duration": 177,
    "start_time": "2025-03-09T02:38:41.465Z"
   },
   {
    "duration": 133484,
    "start_time": "2025-03-09T02:38:41.644Z"
   },
   {
    "duration": 225,
    "start_time": "2025-03-09T02:40:55.130Z"
   },
   {
    "duration": 312,
    "start_time": "2025-03-09T02:40:55.357Z"
   },
   {
    "duration": 331,
    "start_time": "2025-03-09T02:40:55.671Z"
   },
   {
    "duration": 0,
    "start_time": "2025-03-09T02:40:56.004Z"
   },
   {
    "duration": 0,
    "start_time": "2025-03-09T02:40:56.006Z"
   },
   {
    "duration": 0,
    "start_time": "2025-03-09T02:40:56.007Z"
   },
   {
    "duration": 117,
    "start_time": "2025-03-09T02:42:37.150Z"
   },
   {
    "duration": 123,
    "start_time": "2025-03-09T02:42:46.677Z"
   },
   {
    "duration": 162,
    "start_time": "2025-03-09T02:43:05.093Z"
   },
   {
    "duration": 126,
    "start_time": "2025-03-09T02:43:14.141Z"
   },
   {
    "duration": 15,
    "start_time": "2025-03-09T02:45:29.040Z"
   },
   {
    "duration": 220,
    "start_time": "2025-03-09T02:45:38.063Z"
   },
   {
    "duration": 250,
    "start_time": "2025-03-09T02:45:38.353Z"
   },
   {
    "duration": 629,
    "start_time": "2025-03-09T02:45:38.604Z"
   },
   {
    "duration": 0,
    "start_time": "2025-03-09T02:45:39.236Z"
   },
   {
    "duration": 0,
    "start_time": "2025-03-09T02:45:39.243Z"
   },
   {
    "duration": 212,
    "start_time": "2025-03-09T02:46:44.064Z"
   },
   {
    "duration": 171,
    "start_time": "2025-03-09T02:46:44.487Z"
   },
   {
    "duration": 173,
    "start_time": "2025-03-09T02:46:44.870Z"
   },
   {
    "duration": 396,
    "start_time": "2025-03-09T02:46:45.274Z"
   },
   {
    "duration": 262,
    "start_time": "2025-03-09T02:47:00.581Z"
   },
   {
    "duration": 172,
    "start_time": "2025-03-09T02:47:01.107Z"
   },
   {
    "duration": 172,
    "start_time": "2025-03-09T02:47:01.416Z"
   },
   {
    "duration": 167,
    "start_time": "2025-03-09T02:47:01.589Z"
   },
   {
    "duration": 54,
    "start_time": "2025-03-09T02:47:01.777Z"
   },
   {
    "duration": 212,
    "start_time": "2025-03-09T02:47:09.367Z"
   },
   {
    "duration": 258,
    "start_time": "2025-03-09T02:47:09.644Z"
   },
   {
    "duration": 194,
    "start_time": "2025-03-09T02:47:09.904Z"
   },
   {
    "duration": 0,
    "start_time": "2025-03-09T02:47:10.100Z"
   },
   {
    "duration": 53,
    "start_time": "2025-03-09T02:47:10.116Z"
   },
   {
    "duration": 153,
    "start_time": "2025-03-09T02:47:39.853Z"
   },
   {
    "duration": 4,
    "start_time": "2025-03-09T02:48:32.069Z"
   },
   {
    "duration": 154,
    "start_time": "2025-03-09T02:49:14.144Z"
   },
   {
    "duration": 1073,
    "start_time": "2025-03-09T03:02:53.724Z"
   },
   {
    "duration": 26,
    "start_time": "2025-03-09T03:02:54.799Z"
   },
   {
    "duration": 23,
    "start_time": "2025-03-09T03:02:54.827Z"
   },
   {
    "duration": 391,
    "start_time": "2025-03-09T03:02:54.851Z"
   },
   {
    "duration": 7,
    "start_time": "2025-03-09T03:02:55.246Z"
   },
   {
    "duration": 440,
    "start_time": "2025-03-09T03:02:55.255Z"
   },
   {
    "duration": 185,
    "start_time": "2025-03-09T03:02:55.697Z"
   },
   {
    "duration": 629,
    "start_time": "2025-03-09T03:02:55.884Z"
   },
   {
    "duration": 444,
    "start_time": "2025-03-09T03:02:56.515Z"
   },
   {
    "duration": 83,
    "start_time": "2025-03-09T03:02:56.961Z"
   },
   {
    "duration": 6,
    "start_time": "2025-03-09T03:02:57.045Z"
   },
   {
    "duration": 6608,
    "start_time": "2025-03-09T03:02:57.052Z"
   },
   {
    "duration": 396,
    "start_time": "2025-03-09T03:03:03.662Z"
   },
   {
    "duration": 477,
    "start_time": "2025-03-09T03:03:04.061Z"
   },
   {
    "duration": 120,
    "start_time": "2025-03-09T03:03:04.539Z"
   },
   {
    "duration": 133819,
    "start_time": "2025-03-09T03:03:04.661Z"
   },
   {
    "duration": 187,
    "start_time": "2025-03-09T03:05:18.483Z"
   },
   {
    "duration": 303,
    "start_time": "2025-03-09T03:05:18.672Z"
   },
   {
    "duration": 345,
    "start_time": "2025-03-09T03:05:18.977Z"
   },
   {
    "duration": 0,
    "start_time": "2025-03-09T03:05:19.323Z"
   },
   {
    "duration": 0,
    "start_time": "2025-03-09T03:05:19.324Z"
   },
   {
    "duration": 0,
    "start_time": "2025-03-09T03:05:19.325Z"
   },
   {
    "duration": 0,
    "start_time": "2025-03-09T03:05:19.327Z"
   },
   {
    "duration": 0,
    "start_time": "2025-03-09T03:05:19.328Z"
   },
   {
    "duration": 1117,
    "start_time": "2025-03-09T03:12:41.199Z"
   },
   {
    "duration": 28,
    "start_time": "2025-03-09T03:12:42.318Z"
   },
   {
    "duration": 14,
    "start_time": "2025-03-09T03:12:42.348Z"
   },
   {
    "duration": 368,
    "start_time": "2025-03-09T03:12:42.364Z"
   },
   {
    "duration": 10,
    "start_time": "2025-03-09T03:12:42.735Z"
   },
   {
    "duration": 464,
    "start_time": "2025-03-09T03:12:42.747Z"
   },
   {
    "duration": 181,
    "start_time": "2025-03-09T03:12:43.213Z"
   },
   {
    "duration": 598,
    "start_time": "2025-03-09T03:12:43.396Z"
   },
   {
    "duration": 372,
    "start_time": "2025-03-09T03:12:43.995Z"
   },
   {
    "duration": 8,
    "start_time": "2025-03-09T03:12:44.447Z"
   },
   {
    "duration": 6,
    "start_time": "2025-03-09T03:12:44.460Z"
   },
   {
    "duration": 6401,
    "start_time": "2025-03-09T03:12:44.467Z"
   },
   {
    "duration": 307,
    "start_time": "2025-03-09T03:12:50.943Z"
   },
   {
    "duration": 452,
    "start_time": "2025-03-09T03:12:51.254Z"
   },
   {
    "duration": 140,
    "start_time": "2025-03-09T03:12:51.707Z"
   },
   {
    "duration": 1156,
    "start_time": "2025-03-09T03:15:37.273Z"
   },
   {
    "duration": 29,
    "start_time": "2025-03-09T03:15:38.431Z"
   },
   {
    "duration": 16,
    "start_time": "2025-03-09T03:15:38.462Z"
   },
   {
    "duration": 389,
    "start_time": "2025-03-09T03:15:38.480Z"
   },
   {
    "duration": 7,
    "start_time": "2025-03-09T03:15:38.871Z"
   },
   {
    "duration": 491,
    "start_time": "2025-03-09T03:15:38.880Z"
   },
   {
    "duration": 196,
    "start_time": "2025-03-09T03:15:39.373Z"
   },
   {
    "duration": 690,
    "start_time": "2025-03-09T03:15:39.570Z"
   },
   {
    "duration": 406,
    "start_time": "2025-03-09T03:15:40.262Z"
   },
   {
    "duration": 77,
    "start_time": "2025-03-09T03:15:40.671Z"
   },
   {
    "duration": 7,
    "start_time": "2025-03-09T03:15:40.750Z"
   },
   {
    "duration": 6503,
    "start_time": "2025-03-09T03:15:40.759Z"
   },
   {
    "duration": 387,
    "start_time": "2025-03-09T03:15:47.264Z"
   },
   {
    "duration": 468,
    "start_time": "2025-03-09T03:15:47.656Z"
   },
   {
    "duration": 122,
    "start_time": "2025-03-09T03:15:48.126Z"
   },
   {
    "duration": 1132,
    "start_time": "2025-03-09T03:19:48.576Z"
   },
   {
    "duration": 28,
    "start_time": "2025-03-09T03:19:49.711Z"
   },
   {
    "duration": 15,
    "start_time": "2025-03-09T03:19:49.740Z"
   },
   {
    "duration": 374,
    "start_time": "2025-03-09T03:19:49.757Z"
   },
   {
    "duration": 13,
    "start_time": "2025-03-09T03:19:50.133Z"
   },
   {
    "duration": 472,
    "start_time": "2025-03-09T03:19:50.147Z"
   },
   {
    "duration": 190,
    "start_time": "2025-03-09T03:19:50.621Z"
   },
   {
    "duration": 646,
    "start_time": "2025-03-09T03:19:50.813Z"
   },
   {
    "duration": 396,
    "start_time": "2025-03-09T03:19:51.463Z"
   },
   {
    "duration": 80,
    "start_time": "2025-03-09T03:19:51.863Z"
   },
   {
    "duration": 9,
    "start_time": "2025-03-09T03:19:51.945Z"
   },
   {
    "duration": 6806,
    "start_time": "2025-03-09T03:19:51.956Z"
   },
   {
    "duration": 382,
    "start_time": "2025-03-09T03:19:58.764Z"
   },
   {
    "duration": 452,
    "start_time": "2025-03-09T03:19:59.148Z"
   },
   {
    "duration": 147,
    "start_time": "2025-03-09T03:19:59.601Z"
   },
   {
    "duration": 1157,
    "start_time": "2025-03-09T03:23:21.395Z"
   },
   {
    "duration": 30,
    "start_time": "2025-03-09T03:23:22.555Z"
   },
   {
    "duration": 18,
    "start_time": "2025-03-09T03:23:22.587Z"
   },
   {
    "duration": 410,
    "start_time": "2025-03-09T03:23:22.607Z"
   },
   {
    "duration": 7,
    "start_time": "2025-03-09T03:23:23.020Z"
   },
   {
    "duration": 458,
    "start_time": "2025-03-09T03:23:23.029Z"
   },
   {
    "duration": 183,
    "start_time": "2025-03-09T03:23:23.489Z"
   },
   {
    "duration": 638,
    "start_time": "2025-03-09T03:23:23.674Z"
   },
   {
    "duration": 434,
    "start_time": "2025-03-09T03:23:24.314Z"
   },
   {
    "duration": 7,
    "start_time": "2025-03-09T03:23:24.750Z"
   },
   {
    "duration": 5,
    "start_time": "2025-03-09T03:23:24.759Z"
   },
   {
    "duration": 6221,
    "start_time": "2025-03-09T03:23:24.842Z"
   },
   {
    "duration": 393,
    "start_time": "2025-03-09T03:23:31.065Z"
   },
   {
    "duration": 461,
    "start_time": "2025-03-09T03:23:31.465Z"
   },
   {
    "duration": 137,
    "start_time": "2025-03-09T03:23:31.928Z"
   },
   {
    "duration": 133544,
    "start_time": "2025-03-09T03:23:32.067Z"
   },
   {
    "duration": 185,
    "start_time": "2025-03-09T03:25:45.613Z"
   },
   {
    "duration": 295,
    "start_time": "2025-03-09T03:25:45.800Z"
   },
   {
    "duration": 328,
    "start_time": "2025-03-09T03:25:46.097Z"
   },
   {
    "duration": 0,
    "start_time": "2025-03-09T03:25:46.427Z"
   },
   {
    "duration": 0,
    "start_time": "2025-03-09T03:25:46.428Z"
   },
   {
    "duration": 0,
    "start_time": "2025-03-09T03:25:46.429Z"
   },
   {
    "duration": 0,
    "start_time": "2025-03-09T03:25:46.430Z"
   },
   {
    "duration": 0,
    "start_time": "2025-03-09T03:25:46.431Z"
   },
   {
    "duration": 280,
    "start_time": "2025-03-09T03:26:03.764Z"
   },
   {
    "duration": 175,
    "start_time": "2025-03-09T03:26:04.143Z"
   },
   {
    "duration": 609,
    "start_time": "2025-03-09T03:26:04.382Z"
   },
   {
    "duration": 0,
    "start_time": "2025-03-09T03:26:04.993Z"
   },
   {
    "duration": 146,
    "start_time": "2025-03-09T03:26:05.253Z"
   },
   {
    "duration": 233,
    "start_time": "2025-03-09T03:26:26.223Z"
   },
   {
    "duration": 6,
    "start_time": "2025-03-09T03:27:56.339Z"
   },
   {
    "duration": 105,
    "start_time": "2025-03-09T03:28:03.468Z"
   },
   {
    "duration": 133164,
    "start_time": "2025-03-09T03:28:27.726Z"
   },
   {
    "duration": 206,
    "start_time": "2025-03-09T03:30:40.892Z"
   },
   {
    "duration": 309,
    "start_time": "2025-03-09T03:30:41.100Z"
   },
   {
    "duration": 1285,
    "start_time": "2025-03-09T03:31:10.500Z"
   },
   {
    "duration": 21011,
    "start_time": "2025-03-09T03:35:39.438Z"
   },
   {
    "duration": 20927,
    "start_time": "2025-03-09T03:37:38.623Z"
   },
   {
    "duration": 20602,
    "start_time": "2025-03-09T03:38:14.906Z"
   },
   {
    "duration": 128,
    "start_time": "2025-03-09T03:40:56.020Z"
   },
   {
    "duration": 16,
    "start_time": "2025-03-09T03:41:37.202Z"
   },
   {
    "duration": 16,
    "start_time": "2025-03-09T03:41:44.473Z"
   },
   {
    "duration": 21,
    "start_time": "2025-03-09T03:42:25.768Z"
   },
   {
    "duration": 5,
    "start_time": "2025-03-09T03:42:43.114Z"
   },
   {
    "duration": 5,
    "start_time": "2025-03-09T03:42:49.563Z"
   },
   {
    "duration": 15,
    "start_time": "2025-03-09T03:42:57.456Z"
   },
   {
    "duration": 18,
    "start_time": "2025-03-09T03:43:11.882Z"
   },
   {
    "duration": 15,
    "start_time": "2025-03-09T03:45:33.112Z"
   },
   {
    "duration": 5,
    "start_time": "2025-03-09T03:45:44.880Z"
   },
   {
    "duration": 5,
    "start_time": "2025-03-09T03:45:55.421Z"
   },
   {
    "duration": 154,
    "start_time": "2025-03-09T03:47:40.937Z"
   },
   {
    "duration": 266,
    "start_time": "2025-03-09T03:50:16.068Z"
   },
   {
    "duration": 109,
    "start_time": "2025-03-09T03:51:43.324Z"
   },
   {
    "duration": 8,
    "start_time": "2025-03-09T03:52:01.268Z"
   },
   {
    "duration": 141,
    "start_time": "2025-03-09T03:52:32.520Z"
   },
   {
    "duration": 8,
    "start_time": "2025-03-09T03:52:39.548Z"
   },
   {
    "duration": 8,
    "start_time": "2025-03-09T03:52:58.110Z"
   },
   {
    "duration": 105,
    "start_time": "2025-03-09T03:54:49.324Z"
   },
   {
    "duration": 176,
    "start_time": "2025-03-09T03:54:49.543Z"
   },
   {
    "duration": 120,
    "start_time": "2025-03-09T03:55:27.527Z"
   },
   {
    "duration": 159,
    "start_time": "2025-03-09T03:55:27.865Z"
   },
   {
    "duration": 138,
    "start_time": "2025-03-09T03:55:57.509Z"
   },
   {
    "duration": 183,
    "start_time": "2025-03-09T03:55:57.743Z"
   },
   {
    "duration": 173,
    "start_time": "2025-03-09T03:56:25.044Z"
   },
   {
    "duration": 165,
    "start_time": "2025-03-09T03:57:19.790Z"
   },
   {
    "duration": 132925,
    "start_time": "2025-03-09T04:00:26.462Z"
   },
   {
    "duration": 7,
    "start_time": "2025-03-09T04:02:42.002Z"
   },
   {
    "duration": 180,
    "start_time": "2025-03-09T04:03:49.535Z"
   },
   {
    "duration": 195,
    "start_time": "2025-03-09T04:05:00.813Z"
   },
   {
    "duration": 180,
    "start_time": "2025-03-09T04:05:35.808Z"
   },
   {
    "duration": 35233,
    "start_time": "2025-03-09T04:08:03.616Z"
   },
   {
    "duration": 21616,
    "start_time": "2025-03-09T04:10:13.066Z"
   },
   {
    "duration": 18,
    "start_time": "2025-03-09T04:11:39.238Z"
   },
   {
    "duration": 35512,
    "start_time": "2025-03-09T04:11:48.067Z"
   },
   {
    "duration": 250,
    "start_time": "2025-03-09T04:32:34.558Z"
   },
   {
    "duration": 464,
    "start_time": "2025-03-09T04:32:54.512Z"
   },
   {
    "duration": 343,
    "start_time": "2025-03-09T04:35:49.030Z"
   },
   {
    "duration": 1064,
    "start_time": "2025-03-09T05:22:33.585Z"
   },
   {
    "duration": 27,
    "start_time": "2025-03-09T05:22:34.651Z"
   },
   {
    "duration": 15,
    "start_time": "2025-03-09T05:22:34.680Z"
   },
   {
    "duration": 372,
    "start_time": "2025-03-09T05:22:34.696Z"
   },
   {
    "duration": 7,
    "start_time": "2025-03-09T05:22:35.071Z"
   },
   {
    "duration": 488,
    "start_time": "2025-03-09T05:22:35.079Z"
   },
   {
    "duration": 184,
    "start_time": "2025-03-09T05:22:35.570Z"
   },
   {
    "duration": 712,
    "start_time": "2025-03-09T05:22:35.755Z"
   },
   {
    "duration": 397,
    "start_time": "2025-03-09T05:22:36.469Z"
   },
   {
    "duration": 7,
    "start_time": "2025-03-09T05:22:36.943Z"
   },
   {
    "duration": 7,
    "start_time": "2025-03-09T05:22:36.952Z"
   },
   {
    "duration": 6685,
    "start_time": "2025-03-09T05:22:36.963Z"
   },
   {
    "duration": 313,
    "start_time": "2025-03-09T05:22:43.652Z"
   },
   {
    "duration": 484,
    "start_time": "2025-03-09T05:22:43.967Z"
   },
   {
    "duration": 124,
    "start_time": "2025-03-09T05:22:44.453Z"
   },
   {
    "duration": 310,
    "start_time": "2025-03-09T05:22:44.579Z"
   },
   {
    "duration": 133648,
    "start_time": "2025-03-09T05:22:44.891Z"
   },
   {
    "duration": 206,
    "start_time": "2025-03-09T05:24:58.543Z"
   },
   {
    "duration": 228,
    "start_time": "2025-03-09T05:24:58.751Z"
   },
   {
    "duration": 35599,
    "start_time": "2025-03-09T05:24:58.981Z"
   },
   {
    "duration": 342,
    "start_time": "2025-03-09T05:51:39.520Z"
   },
   {
    "duration": 358,
    "start_time": "2025-03-09T05:51:49.709Z"
   },
   {
    "duration": 370,
    "start_time": "2025-03-09T05:52:05.014Z"
   },
   {
    "duration": 417,
    "start_time": "2025-03-09T05:52:11.458Z"
   },
   {
    "duration": 446,
    "start_time": "2025-03-09T05:52:18.485Z"
   },
   {
    "duration": 35656,
    "start_time": "2025-03-09T05:59:57.947Z"
   },
   {
    "duration": 133391,
    "start_time": "2025-03-09T06:00:59.083Z"
   },
   {
    "duration": 687,
    "start_time": "2025-03-09T06:03:12.477Z"
   },
   {
    "duration": 188,
    "start_time": "2025-03-09T06:05:09.958Z"
   },
   {
    "duration": 190,
    "start_time": "2025-03-09T06:05:31.265Z"
   },
   {
    "duration": 133059,
    "start_time": "2025-03-09T06:08:06.909Z"
   },
   {
    "duration": 484,
    "start_time": "2025-03-09T06:10:29.653Z"
   },
   {
    "duration": 73,
    "start_time": "2025-03-09T06:10:52.922Z"
   },
   {
    "duration": 190,
    "start_time": "2025-03-09T06:11:10.769Z"
   },
   {
    "duration": 199,
    "start_time": "2025-03-09T06:11:45.577Z"
   },
   {
    "duration": 1118,
    "start_time": "2025-03-09T06:12:04.458Z"
   },
   {
    "duration": 28,
    "start_time": "2025-03-09T06:12:05.578Z"
   },
   {
    "duration": 16,
    "start_time": "2025-03-09T06:12:05.608Z"
   },
   {
    "duration": 380,
    "start_time": "2025-03-09T06:12:05.626Z"
   },
   {
    "duration": 6,
    "start_time": "2025-03-09T06:12:06.010Z"
   },
   {
    "duration": 445,
    "start_time": "2025-03-09T06:12:06.018Z"
   },
   {
    "duration": 178,
    "start_time": "2025-03-09T06:12:06.465Z"
   },
   {
    "duration": 639,
    "start_time": "2025-03-09T06:12:06.645Z"
   },
   {
    "duration": 457,
    "start_time": "2025-03-09T06:12:07.286Z"
   },
   {
    "duration": 6,
    "start_time": "2025-03-09T06:12:07.745Z"
   },
   {
    "duration": 6,
    "start_time": "2025-03-09T06:12:07.753Z"
   },
   {
    "duration": 6488,
    "start_time": "2025-03-09T06:12:07.761Z"
   },
   {
    "duration": 298,
    "start_time": "2025-03-09T06:12:14.251Z"
   },
   {
    "duration": 439,
    "start_time": "2025-03-09T06:12:14.553Z"
   },
   {
    "duration": 155,
    "start_time": "2025-03-09T06:12:14.994Z"
   },
   {
    "duration": 261,
    "start_time": "2025-03-09T06:12:15.151Z"
   },
   {
    "duration": 133545,
    "start_time": "2025-03-09T06:12:15.414Z"
   },
   {
    "duration": 191,
    "start_time": "2025-03-09T06:14:28.962Z"
   },
   {
    "duration": 246,
    "start_time": "2025-03-09T06:14:29.155Z"
   },
   {
    "duration": 32782,
    "start_time": "2025-03-09T06:14:29.402Z"
   },
   {
    "duration": 35283,
    "start_time": "2025-03-09T06:18:23.222Z"
   },
   {
    "duration": 5,
    "start_time": "2025-03-09T06:21:20.300Z"
   },
   {
    "duration": 15,
    "start_time": "2025-03-09T06:21:40.949Z"
   },
   {
    "duration": 17,
    "start_time": "2025-03-09T06:21:48.357Z"
   },
   {
    "duration": 3,
    "start_time": "2025-03-09T06:22:15.102Z"
   },
   {
    "duration": 4,
    "start_time": "2025-03-09T06:22:23.165Z"
   },
   {
    "duration": 2,
    "start_time": "2025-03-09T06:22:32.549Z"
   },
   {
    "duration": 4,
    "start_time": "2025-03-09T06:22:36.198Z"
   },
   {
    "duration": 5,
    "start_time": "2025-03-09T06:23:10.541Z"
   },
   {
    "duration": 6,
    "start_time": "2025-03-09T06:23:46.630Z"
   },
   {
    "duration": 1129,
    "start_time": "2025-03-09T06:24:58.458Z"
   },
   {
    "duration": 25,
    "start_time": "2025-03-09T06:24:59.590Z"
   },
   {
    "duration": 16,
    "start_time": "2025-03-09T06:24:59.617Z"
   },
   {
    "duration": 358,
    "start_time": "2025-03-09T06:24:59.644Z"
   },
   {
    "duration": 7,
    "start_time": "2025-03-09T06:25:00.004Z"
   },
   {
    "duration": 459,
    "start_time": "2025-03-09T06:25:00.012Z"
   },
   {
    "duration": 200,
    "start_time": "2025-03-09T06:25:00.473Z"
   },
   {
    "duration": 642,
    "start_time": "2025-03-09T06:25:00.675Z"
   },
   {
    "duration": 447,
    "start_time": "2025-03-09T06:25:01.319Z"
   },
   {
    "duration": 8,
    "start_time": "2025-03-09T06:25:01.845Z"
   },
   {
    "duration": 7,
    "start_time": "2025-03-09T06:25:01.855Z"
   },
   {
    "duration": 6300,
    "start_time": "2025-03-09T06:25:01.864Z"
   },
   {
    "duration": 224,
    "start_time": "2025-03-09T06:25:08.243Z"
   },
   {
    "duration": 437,
    "start_time": "2025-03-09T06:25:08.546Z"
   },
   {
    "duration": 160,
    "start_time": "2025-03-09T06:25:08.984Z"
   },
   {
    "duration": 251,
    "start_time": "2025-03-09T06:25:09.146Z"
   },
   {
    "duration": 133132,
    "start_time": "2025-03-09T06:25:09.399Z"
   },
   {
    "duration": 233,
    "start_time": "2025-03-09T06:27:22.532Z"
   },
   {
    "duration": 226,
    "start_time": "2025-03-09T06:27:22.767Z"
   },
   {
    "duration": 35363,
    "start_time": "2025-03-09T06:27:23.043Z"
   },
   {
    "duration": 2881,
    "start_time": "2025-03-10T01:03:26.804Z"
   },
   {
    "duration": 30,
    "start_time": "2025-03-10T01:03:29.688Z"
   },
   {
    "duration": 15,
    "start_time": "2025-03-10T01:03:29.720Z"
   },
   {
    "duration": 371,
    "start_time": "2025-03-10T01:03:29.736Z"
   },
   {
    "duration": 6,
    "start_time": "2025-03-10T01:03:30.111Z"
   },
   {
    "duration": 503,
    "start_time": "2025-03-10T01:03:30.119Z"
   },
   {
    "duration": 120,
    "start_time": "2025-03-10T01:03:30.624Z"
   },
   {
    "duration": 594,
    "start_time": "2025-03-10T01:03:30.746Z"
   },
   {
    "duration": 448,
    "start_time": "2025-03-10T01:03:31.342Z"
   },
   {
    "duration": 79,
    "start_time": "2025-03-10T01:03:31.792Z"
   },
   {
    "duration": 7,
    "start_time": "2025-03-10T01:03:31.876Z"
   },
   {
    "duration": 6692,
    "start_time": "2025-03-10T01:03:31.886Z"
   },
   {
    "duration": 308,
    "start_time": "2025-03-10T01:03:38.580Z"
   },
   {
    "duration": 570,
    "start_time": "2025-03-10T01:03:38.892Z"
   },
   {
    "duration": 135,
    "start_time": "2025-03-10T01:03:39.469Z"
   },
   {
    "duration": 320,
    "start_time": "2025-03-10T01:03:39.606Z"
   },
   {
    "duration": 270,
    "start_time": "2025-03-10T01:03:39.928Z"
   },
   {
    "duration": 0,
    "start_time": "2025-03-10T01:03:40.200Z"
   },
   {
    "duration": 0,
    "start_time": "2025-03-10T01:03:40.201Z"
   },
   {
    "duration": 0,
    "start_time": "2025-03-10T01:03:40.202Z"
   },
   {
    "duration": 0,
    "start_time": "2025-03-10T01:03:40.203Z"
   },
   {
    "duration": 0,
    "start_time": "2025-03-10T01:03:40.204Z"
   },
   {
    "duration": 0,
    "start_time": "2025-03-10T01:03:40.205Z"
   },
   {
    "duration": 5,
    "start_time": "2025-03-10T01:04:32.663Z"
   },
   {
    "duration": 43,
    "start_time": "2025-03-10T01:04:33.862Z"
   },
   {
    "duration": 23,
    "start_time": "2025-03-10T01:05:13.443Z"
   },
   {
    "duration": 4,
    "start_time": "2025-03-10T01:05:21.178Z"
   },
   {
    "duration": 14,
    "start_time": "2025-03-10T01:05:24.560Z"
   },
   {
    "duration": 3,
    "start_time": "2025-03-10T01:06:12.073Z"
   },
   {
    "duration": 4,
    "start_time": "2025-03-10T01:06:17.833Z"
   },
   {
    "duration": 17247,
    "start_time": "2025-03-10T01:06:18.560Z"
   },
   {
    "duration": 13096,
    "start_time": "2025-03-10T01:08:52.935Z"
   },
   {
    "duration": 23964,
    "start_time": "2025-03-10T01:10:14.227Z"
   },
   {
    "duration": 7,
    "start_time": "2025-03-10T01:26:03.874Z"
   },
   {
    "duration": 6307,
    "start_time": "2025-03-10T01:26:08.083Z"
   },
   {
    "duration": 32149,
    "start_time": "2025-03-10T01:31:43.447Z"
   },
   {
    "duration": 133703,
    "start_time": "2025-03-10T01:34:31.479Z"
   },
   {
    "duration": 215,
    "start_time": "2025-03-10T01:36:45.184Z"
   },
   {
    "duration": 271,
    "start_time": "2025-03-10T01:36:45.401Z"
   },
   {
    "duration": 887,
    "start_time": "2025-03-10T01:36:45.674Z"
   },
   {
    "duration": 35770,
    "start_time": "2025-03-10T01:36:46.563Z"
   },
   {
    "duration": 795,
    "start_time": "2025-03-10T01:37:49.037Z"
   },
   {
    "duration": 803,
    "start_time": "2025-03-10T01:39:55.878Z"
   },
   {
    "duration": 234,
    "start_time": "2025-03-10T01:40:29.155Z"
   },
   {
    "duration": 799,
    "start_time": "2025-03-10T01:40:29.685Z"
   },
   {
    "duration": 35034,
    "start_time": "2025-03-10T01:40:30.589Z"
   },
   {
    "duration": 1087,
    "start_time": "2025-03-10T01:42:33.655Z"
   },
   {
    "duration": 34,
    "start_time": "2025-03-10T01:42:34.745Z"
   },
   {
    "duration": 19,
    "start_time": "2025-03-10T01:42:34.780Z"
   },
   {
    "duration": 387,
    "start_time": "2025-03-10T01:42:34.801Z"
   },
   {
    "duration": 7,
    "start_time": "2025-03-10T01:42:35.191Z"
   },
   {
    "duration": 522,
    "start_time": "2025-03-10T01:42:35.200Z"
   },
   {
    "duration": 123,
    "start_time": "2025-03-10T01:42:35.724Z"
   },
   {
    "duration": 638,
    "start_time": "2025-03-10T01:42:35.848Z"
   },
   {
    "duration": 491,
    "start_time": "2025-03-10T01:42:36.488Z"
   },
   {
    "duration": 89,
    "start_time": "2025-03-10T01:42:36.981Z"
   },
   {
    "duration": 9,
    "start_time": "2025-03-10T01:42:37.072Z"
   },
   {
    "duration": 6407,
    "start_time": "2025-03-10T01:42:37.083Z"
   },
   {
    "duration": 381,
    "start_time": "2025-03-10T01:42:43.492Z"
   },
   {
    "duration": 427,
    "start_time": "2025-03-10T01:42:43.882Z"
   },
   {
    "duration": 161,
    "start_time": "2025-03-10T01:42:44.311Z"
   },
   {
    "duration": 270,
    "start_time": "2025-03-10T01:42:44.474Z"
   },
   {
    "duration": 32348,
    "start_time": "2025-03-10T01:42:44.746Z"
   },
   {
    "duration": 133733,
    "start_time": "2025-03-10T01:43:17.098Z"
   },
   {
    "duration": 226,
    "start_time": "2025-03-10T01:45:30.833Z"
   },
   {
    "duration": 255,
    "start_time": "2025-03-10T01:45:31.061Z"
   },
   {
    "duration": 935,
    "start_time": "2025-03-10T01:45:31.318Z"
   },
   {
    "duration": 34994,
    "start_time": "2025-03-10T01:45:32.255Z"
   },
   {
    "duration": 5,
    "start_time": "2025-03-10T01:48:49.443Z"
   },
   {
    "duration": 27428,
    "start_time": "2025-03-10T01:50:38.731Z"
   },
   {
    "duration": 236,
    "start_time": "2025-03-10T01:52:51.969Z"
   },
   {
    "duration": 823,
    "start_time": "2025-03-10T01:52:55.605Z"
   },
   {
    "duration": 415,
    "start_time": "2025-03-10T01:53:02.966Z"
   },
   {
    "duration": 5,
    "start_time": "2025-03-10T01:56:55.079Z"
   },
   {
    "duration": 6334,
    "start_time": "2025-03-10T01:57:30.923Z"
   },
   {
    "duration": 345,
    "start_time": "2025-03-10T01:58:37.037Z"
   },
   {
    "duration": 69967,
    "start_time": "2025-03-10T01:59:12.011Z"
   },
   {
    "duration": 8,
    "start_time": "2025-03-10T02:10:01.641Z"
   },
   {
    "duration": 5,
    "start_time": "2025-03-10T02:10:09.180Z"
   },
   {
    "duration": 339,
    "start_time": "2025-03-10T02:10:22.214Z"
   },
   {
    "duration": 8,
    "start_time": "2025-03-10T02:10:40.057Z"
   },
   {
    "duration": 6899,
    "start_time": "2025-03-10T02:10:43.783Z"
   },
   {
    "duration": 22389,
    "start_time": "2025-03-10T02:14:28.554Z"
   },
   {
    "duration": 434171,
    "start_time": "2025-03-10T02:14:58.433Z"
   },
   {
    "duration": 10,
    "start_time": "2025-03-10T02:24:05.589Z"
   },
   {
    "duration": 4,
    "start_time": "2025-03-10T02:25:35.787Z"
   },
   {
    "duration": 276,
    "start_time": "2025-03-10T02:25:39.796Z"
   },
   {
    "duration": 358,
    "start_time": "2025-03-10T02:27:07.804Z"
   },
   {
    "duration": 270,
    "start_time": "2025-03-10T02:28:30.401Z"
   },
   {
    "duration": 270,
    "start_time": "2025-03-10T02:28:57.818Z"
   },
   {
    "duration": 203,
    "start_time": "2025-03-10T02:29:04.384Z"
   },
   {
    "duration": 31322,
    "start_time": "2025-03-10T02:32:38.104Z"
   },
   {
    "duration": 11,
    "start_time": "2025-03-10T02:39:49.010Z"
   },
   {
    "duration": 296,
    "start_time": "2025-03-10T02:40:04.781Z"
   },
   {
    "duration": 31250,
    "start_time": "2025-03-10T02:40:20.103Z"
   },
   {
    "duration": 364,
    "start_time": "2025-03-10T02:42:30.524Z"
   },
   {
    "duration": 4,
    "start_time": "2025-03-10T02:42:46.611Z"
   },
   {
    "duration": 440,
    "start_time": "2025-03-10T02:42:52.820Z"
   },
   {
    "duration": 363,
    "start_time": "2025-03-10T02:43:01.326Z"
   },
   {
    "duration": 351,
    "start_time": "2025-03-10T02:43:11.898Z"
   },
   {
    "duration": 393,
    "start_time": "2025-03-10T02:43:43.588Z"
   },
   {
    "duration": 5,
    "start_time": "2025-03-10T02:44:50.870Z"
   },
   {
    "duration": 5,
    "start_time": "2025-03-10T02:44:58.316Z"
   },
   {
    "duration": 6,
    "start_time": "2025-03-10T02:45:06.979Z"
   },
   {
    "duration": 31153,
    "start_time": "2025-03-10T02:45:48.011Z"
   },
   {
    "duration": 360,
    "start_time": "2025-03-10T02:46:28.332Z"
   },
   {
    "duration": 4,
    "start_time": "2025-03-10T02:47:53.978Z"
   },
   {
    "duration": 5,
    "start_time": "2025-03-10T02:48:02.300Z"
   },
   {
    "duration": 5,
    "start_time": "2025-03-10T02:48:11.641Z"
   },
   {
    "duration": 5,
    "start_time": "2025-03-10T02:48:25.738Z"
   },
   {
    "duration": 5,
    "start_time": "2025-03-10T02:54:25.703Z"
   },
   {
    "duration": 1085,
    "start_time": "2025-03-10T03:06:34.348Z"
   },
   {
    "duration": 27,
    "start_time": "2025-03-10T03:06:35.436Z"
   },
   {
    "duration": 17,
    "start_time": "2025-03-10T03:06:35.465Z"
   },
   {
    "duration": 383,
    "start_time": "2025-03-10T03:06:35.483Z"
   },
   {
    "duration": 7,
    "start_time": "2025-03-10T03:06:35.869Z"
   },
   {
    "duration": 552,
    "start_time": "2025-03-10T03:06:35.878Z"
   },
   {
    "duration": 126,
    "start_time": "2025-03-10T03:06:36.432Z"
   },
   {
    "duration": 689,
    "start_time": "2025-03-10T03:06:36.560Z"
   },
   {
    "duration": 438,
    "start_time": "2025-03-10T03:06:37.251Z"
   },
   {
    "duration": 85,
    "start_time": "2025-03-10T03:06:37.690Z"
   },
   {
    "duration": 6,
    "start_time": "2025-03-10T03:06:37.777Z"
   },
   {
    "duration": 6709,
    "start_time": "2025-03-10T03:06:37.786Z"
   },
   {
    "duration": 385,
    "start_time": "2025-03-10T03:06:44.497Z"
   },
   {
    "duration": 310,
    "start_time": "2025-03-10T03:06:44.886Z"
   },
   {
    "duration": 172,
    "start_time": "2025-03-10T03:06:45.198Z"
   },
   {
    "duration": 255,
    "start_time": "2025-03-10T03:06:45.372Z"
   },
   {
    "duration": 422004,
    "start_time": "2025-03-10T03:06:45.629Z"
   },
   {
    "duration": 31256,
    "start_time": "2025-03-10T03:13:47.635Z"
   },
   {
    "duration": 198,
    "start_time": "2025-03-10T03:14:18.894Z"
   },
   {
    "duration": 23151,
    "start_time": "2025-03-10T03:14:19.094Z"
   },
   {
    "duration": 705,
    "start_time": "2025-03-10T03:14:42.246Z"
   },
   {
    "duration": 0,
    "start_time": "2025-03-10T03:14:42.953Z"
   },
   {
    "duration": 0,
    "start_time": "2025-03-10T03:14:42.955Z"
   },
   {
    "duration": 0,
    "start_time": "2025-03-10T03:14:42.956Z"
   },
   {
    "duration": 0,
    "start_time": "2025-03-10T03:14:42.956Z"
   },
   {
    "duration": 0,
    "start_time": "2025-03-10T03:14:42.957Z"
   },
   {
    "duration": 0,
    "start_time": "2025-03-10T03:14:42.958Z"
   },
   {
    "duration": 0,
    "start_time": "2025-03-10T03:14:42.971Z"
   },
   {
    "duration": 0,
    "start_time": "2025-03-10T03:14:42.972Z"
   },
   {
    "duration": 0,
    "start_time": "2025-03-10T03:14:42.974Z"
   },
   {
    "duration": 352,
    "start_time": "2025-03-10T03:18:20.719Z"
   },
   {
    "duration": 679,
    "start_time": "2025-03-10T03:18:49.672Z"
   },
   {
    "duration": 344,
    "start_time": "2025-03-10T03:19:38.808Z"
   },
   {
    "duration": 170,
    "start_time": "2025-03-10T03:19:46.144Z"
   },
   {
    "duration": 191,
    "start_time": "2025-03-10T03:23:06.881Z"
   },
   {
    "duration": 216,
    "start_time": "2025-03-10T03:23:41.644Z"
   },
   {
    "duration": 40141,
    "start_time": "2025-03-10T03:27:22.171Z"
   },
   {
    "duration": 1,
    "start_time": "2025-03-10T03:28:02.314Z"
   },
   {
    "duration": 0,
    "start_time": "2025-03-10T03:28:02.316Z"
   },
   {
    "duration": 0,
    "start_time": "2025-03-10T03:28:02.318Z"
   },
   {
    "duration": 0,
    "start_time": "2025-03-10T03:28:02.319Z"
   },
   {
    "duration": 1107,
    "start_time": "2025-03-10T03:28:09.645Z"
   },
   {
    "duration": 30,
    "start_time": "2025-03-10T03:28:10.754Z"
   },
   {
    "duration": 15,
    "start_time": "2025-03-10T03:28:10.786Z"
   },
   {
    "duration": 373,
    "start_time": "2025-03-10T03:28:10.805Z"
   },
   {
    "duration": 7,
    "start_time": "2025-03-10T03:28:11.180Z"
   },
   {
    "duration": 527,
    "start_time": "2025-03-10T03:28:11.189Z"
   },
   {
    "duration": 117,
    "start_time": "2025-03-10T03:28:11.719Z"
   },
   {
    "duration": 604,
    "start_time": "2025-03-10T03:28:11.838Z"
   },
   {
    "duration": 431,
    "start_time": "2025-03-10T03:28:12.444Z"
   },
   {
    "duration": 14,
    "start_time": "2025-03-10T03:28:12.879Z"
   },
   {
    "duration": 80,
    "start_time": "2025-03-10T03:28:12.894Z"
   },
   {
    "duration": 6494,
    "start_time": "2025-03-10T03:28:12.975Z"
   },
   {
    "duration": 300,
    "start_time": "2025-03-10T03:28:19.473Z"
   },
   {
    "duration": 269,
    "start_time": "2025-03-10T03:28:19.776Z"
   },
   {
    "duration": 131,
    "start_time": "2025-03-10T03:28:20.047Z"
   },
   {
    "duration": 264,
    "start_time": "2025-03-10T03:28:20.180Z"
   },
   {
    "duration": 281401,
    "start_time": "2025-03-10T03:28:20.446Z"
   },
   {
    "duration": 31299,
    "start_time": "2025-03-10T03:33:01.850Z"
   },
   {
    "duration": 205,
    "start_time": "2025-03-10T03:33:33.151Z"
   },
   {
    "duration": 23080,
    "start_time": "2025-03-10T03:33:33.358Z"
   },
   {
    "duration": 360,
    "start_time": "2025-03-10T03:33:56.440Z"
   },
   {
    "duration": 188,
    "start_time": "2025-03-10T03:33:56.802Z"
   },
   {
    "duration": 133267,
    "start_time": "2025-03-10T03:33:56.992Z"
   },
   {
    "duration": 212,
    "start_time": "2025-03-10T03:36:10.261Z"
   },
   {
    "duration": 237,
    "start_time": "2025-03-10T03:36:10.476Z"
   },
   {
    "duration": 712,
    "start_time": "2025-03-10T03:36:10.715Z"
   },
   {
    "duration": 35196,
    "start_time": "2025-03-10T03:36:11.429Z"
   },
   {
    "duration": 160,
    "start_time": "2025-03-10T11:49:40.995Z"
   },
   {
    "duration": 2895,
    "start_time": "2025-03-10T11:50:04.717Z"
   },
   {
    "duration": 35,
    "start_time": "2025-03-10T11:50:07.615Z"
   },
   {
    "duration": 20,
    "start_time": "2025-03-10T11:50:07.651Z"
   },
   {
    "duration": 357,
    "start_time": "2025-03-10T11:50:07.673Z"
   },
   {
    "duration": 7,
    "start_time": "2025-03-10T11:50:08.032Z"
   },
   {
    "duration": 496,
    "start_time": "2025-03-10T11:50:08.042Z"
   },
   {
    "duration": 118,
    "start_time": "2025-03-10T11:50:08.540Z"
   },
   {
    "duration": 585,
    "start_time": "2025-03-10T11:50:08.660Z"
   },
   {
    "duration": 407,
    "start_time": "2025-03-10T11:50:09.271Z"
   },
   {
    "duration": 189,
    "start_time": "2025-03-10T11:50:09.681Z"
   },
   {
    "duration": 4,
    "start_time": "2025-03-10T11:50:09.874Z"
   },
   {
    "duration": 6408,
    "start_time": "2025-03-10T11:50:09.879Z"
   },
   {
    "duration": 483,
    "start_time": "2025-03-10T11:50:16.289Z"
   },
   {
    "duration": 254,
    "start_time": "2025-03-10T11:50:16.776Z"
   },
   {
    "duration": 163,
    "start_time": "2025-03-10T11:50:17.031Z"
   },
   {
    "duration": 254,
    "start_time": "2025-03-10T11:50:17.197Z"
   },
   {
    "duration": 417377,
    "start_time": "2025-03-10T11:50:17.453Z"
   },
   {
    "duration": 31196,
    "start_time": "2025-03-10T11:57:14.833Z"
   },
   {
    "duration": 222,
    "start_time": "2025-03-10T11:57:46.031Z"
   },
   {
    "duration": 276,
    "start_time": "2025-03-10T11:57:46.255Z"
   },
   {
    "duration": 0,
    "start_time": "2025-03-10T11:57:46.536Z"
   },
   {
    "duration": 0,
    "start_time": "2025-03-10T11:57:46.537Z"
   },
   {
    "duration": 0,
    "start_time": "2025-03-10T11:57:46.538Z"
   },
   {
    "duration": 0,
    "start_time": "2025-03-10T11:57:46.539Z"
   },
   {
    "duration": 0,
    "start_time": "2025-03-10T11:57:46.541Z"
   },
   {
    "duration": 0,
    "start_time": "2025-03-10T11:57:46.542Z"
   },
   {
    "duration": 0,
    "start_time": "2025-03-10T11:57:46.543Z"
   },
   {
    "duration": 0,
    "start_time": "2025-03-10T11:57:46.544Z"
   },
   {
    "duration": 0,
    "start_time": "2025-03-10T11:57:46.545Z"
   },
   {
    "duration": 1899,
    "start_time": "2025-03-10T11:58:14.176Z"
   },
   {
    "duration": 22715,
    "start_time": "2025-03-10T11:58:16.077Z"
   },
   {
    "duration": 354,
    "start_time": "2025-03-10T11:58:38.795Z"
   },
   {
    "duration": 177,
    "start_time": "2025-03-10T11:58:39.151Z"
   },
   {
    "duration": 95,
    "start_time": "2025-03-10T11:58:39.330Z"
   },
   {
    "duration": 0,
    "start_time": "2025-03-10T11:58:39.427Z"
   },
   {
    "duration": 0,
    "start_time": "2025-03-10T11:58:39.429Z"
   },
   {
    "duration": 0,
    "start_time": "2025-03-10T11:58:39.430Z"
   },
   {
    "duration": 0,
    "start_time": "2025-03-10T11:58:39.432Z"
   },
   {
    "duration": 0,
    "start_time": "2025-03-10T11:58:39.433Z"
   },
   {
    "duration": 10,
    "start_time": "2025-03-10T12:00:32.150Z"
   },
   {
    "duration": 233,
    "start_time": "2025-03-10T12:01:03.844Z"
   },
   {
    "duration": 30943,
    "start_time": "2025-03-10T12:02:10.301Z"
   },
   {
    "duration": 201,
    "start_time": "2025-03-10T12:03:00.164Z"
   },
   {
    "duration": 1894,
    "start_time": "2025-03-10T12:03:12.867Z"
   },
   {
    "duration": 1867,
    "start_time": "2025-03-10T12:06:53.178Z"
   },
   {
    "duration": 23042,
    "start_time": "2025-03-10T12:06:55.117Z"
   },
   {
    "duration": 1910,
    "start_time": "2025-03-10T12:10:05.243Z"
   },
   {
    "duration": 22705,
    "start_time": "2025-03-10T12:10:07.155Z"
   },
   {
    "duration": 355,
    "start_time": "2025-03-10T12:10:29.870Z"
   },
   {
    "duration": 170,
    "start_time": "2025-03-10T12:10:30.227Z"
   },
   {
    "duration": 702,
    "start_time": "2025-03-10T12:13:36.300Z"
   },
   {
    "duration": 190,
    "start_time": "2025-03-10T12:13:37.004Z"
   },
   {
    "duration": 1362,
    "start_time": "2025-03-10T12:14:18.730Z"
   },
   {
    "duration": 752,
    "start_time": "2025-03-10T12:14:30.826Z"
   },
   {
    "duration": 1357,
    "start_time": "2025-03-10T12:14:54.249Z"
   },
   {
    "duration": 694,
    "start_time": "2025-03-10T12:15:17.145Z"
   },
   {
    "duration": 351,
    "start_time": "2025-03-10T12:15:25.200Z"
   },
   {
    "duration": 688,
    "start_time": "2025-03-10T12:15:35.058Z"
   },
   {
    "duration": 1908,
    "start_time": "2025-03-10T12:20:17.272Z"
   },
   {
    "duration": 22668,
    "start_time": "2025-03-10T12:20:19.182Z"
   },
   {
    "duration": 1901,
    "start_time": "2025-03-10T12:22:28.661Z"
   },
   {
    "duration": 22789,
    "start_time": "2025-03-10T12:22:30.565Z"
   },
   {
    "duration": 1113,
    "start_time": "2025-03-10T12:25:34.984Z"
   },
   {
    "duration": 27,
    "start_time": "2025-03-10T12:25:36.100Z"
   },
   {
    "duration": 16,
    "start_time": "2025-03-10T12:25:36.128Z"
   },
   {
    "duration": 376,
    "start_time": "2025-03-10T12:25:36.146Z"
   },
   {
    "duration": 7,
    "start_time": "2025-03-10T12:25:36.525Z"
   },
   {
    "duration": 580,
    "start_time": "2025-03-10T12:25:36.534Z"
   },
   {
    "duration": 157,
    "start_time": "2025-03-10T12:25:37.116Z"
   },
   {
    "duration": 659,
    "start_time": "2025-03-10T12:25:37.275Z"
   },
   {
    "duration": 439,
    "start_time": "2025-03-10T12:25:37.936Z"
   },
   {
    "duration": 13,
    "start_time": "2025-03-10T12:25:38.377Z"
   },
   {
    "duration": 79,
    "start_time": "2025-03-10T12:25:38.392Z"
   },
   {
    "duration": 6412,
    "start_time": "2025-03-10T12:25:38.474Z"
   },
   {
    "duration": 306,
    "start_time": "2025-03-10T12:25:44.888Z"
   },
   {
    "duration": 259,
    "start_time": "2025-03-10T12:25:45.272Z"
   },
   {
    "duration": 141,
    "start_time": "2025-03-10T12:25:45.533Z"
   },
   {
    "duration": 266,
    "start_time": "2025-03-10T12:25:45.676Z"
   },
   {
    "duration": 417742,
    "start_time": "2025-03-10T12:25:45.945Z"
   },
   {
    "duration": 31057,
    "start_time": "2025-03-10T12:32:43.689Z"
   },
   {
    "duration": 201,
    "start_time": "2025-03-10T12:33:14.747Z"
   },
   {
    "duration": 1917,
    "start_time": "2025-03-10T12:33:14.950Z"
   },
   {
    "duration": 22692,
    "start_time": "2025-03-10T12:33:16.870Z"
   },
   {
    "duration": 695,
    "start_time": "2025-03-10T12:33:39.564Z"
   },
   {
    "duration": 179,
    "start_time": "2025-03-10T12:33:40.261Z"
   },
   {
    "duration": 133479,
    "start_time": "2025-03-10T12:33:40.442Z"
   },
   {
    "duration": 210,
    "start_time": "2025-03-10T12:35:53.924Z"
   },
   {
    "duration": 239,
    "start_time": "2025-03-10T12:35:54.136Z"
   },
   {
    "duration": 1013,
    "start_time": "2025-03-10T12:35:54.377Z"
   },
   {
    "duration": 35248,
    "start_time": "2025-03-10T12:35:55.392Z"
   },
   {
    "duration": 3316,
    "start_time": "2025-03-10T23:52:47.680Z"
   },
   {
    "duration": 38,
    "start_time": "2025-03-10T23:52:50.998Z"
   },
   {
    "duration": 19,
    "start_time": "2025-03-10T23:52:51.038Z"
   },
   {
    "duration": 398,
    "start_time": "2025-03-10T23:52:51.059Z"
   },
   {
    "duration": 8,
    "start_time": "2025-03-10T23:52:51.459Z"
   },
   {
    "duration": 512,
    "start_time": "2025-03-10T23:52:51.470Z"
   },
   {
    "duration": 131,
    "start_time": "2025-03-10T23:52:51.984Z"
   },
   {
    "duration": 3361,
    "start_time": "2025-03-10T23:52:52.117Z"
   },
   {
    "duration": 444,
    "start_time": "2025-03-10T23:52:55.480Z"
   },
   {
    "duration": 80,
    "start_time": "2025-03-10T23:52:55.926Z"
   },
   {
    "duration": 4,
    "start_time": "2025-03-10T23:52:56.008Z"
   },
   {
    "duration": 7223,
    "start_time": "2025-03-10T23:52:56.014Z"
   },
   {
    "duration": 479,
    "start_time": "2025-03-10T23:53:03.239Z"
   },
   {
    "duration": 287,
    "start_time": "2025-03-10T23:53:03.724Z"
   },
   {
    "duration": 195,
    "start_time": "2025-03-10T23:53:04.012Z"
   },
   {
    "duration": 289,
    "start_time": "2025-03-10T23:53:04.211Z"
   },
   {
    "duration": 436081,
    "start_time": "2025-03-10T23:53:04.504Z"
   },
   {
    "duration": 33045,
    "start_time": "2025-03-11T00:00:20.587Z"
   },
   {
    "duration": 206,
    "start_time": "2025-03-11T00:00:53.635Z"
   },
   {
    "duration": 1987,
    "start_time": "2025-03-11T00:00:53.843Z"
   },
   {
    "duration": 23592,
    "start_time": "2025-03-11T00:00:55.832Z"
   },
   {
    "duration": 724,
    "start_time": "2025-03-11T00:01:19.429Z"
   },
   {
    "duration": 184,
    "start_time": "2025-03-11T00:01:20.155Z"
   },
   {
    "duration": 131227,
    "start_time": "2025-03-11T00:01:20.341Z"
   },
   {
    "duration": 280,
    "start_time": "2025-03-11T00:03:31.571Z"
   },
   {
    "duration": 307,
    "start_time": "2025-03-11T00:03:31.853Z"
   },
   {
    "duration": 1203,
    "start_time": "2025-03-11T00:03:32.164Z"
   },
   {
    "duration": 33876,
    "start_time": "2025-03-11T00:03:33.370Z"
   },
   {
    "duration": 2219,
    "start_time": "2025-03-11T00:05:04.193Z"
   },
   {
    "duration": 73470,
    "start_time": "2025-03-11T00:05:34.568Z"
   },
   {
    "duration": 719,
    "start_time": "2025-03-11T00:17:21.197Z"
   },
   {
    "duration": 233,
    "start_time": "2025-03-11T00:17:24.316Z"
   },
   {
    "duration": 1165,
    "start_time": "2025-03-11T00:23:03.624Z"
   },
   {
    "duration": 28,
    "start_time": "2025-03-11T00:23:04.791Z"
   },
   {
    "duration": 15,
    "start_time": "2025-03-11T00:23:04.821Z"
   },
   {
    "duration": 379,
    "start_time": "2025-03-11T00:23:04.838Z"
   },
   {
    "duration": 9,
    "start_time": "2025-03-11T00:23:05.220Z"
   },
   {
    "duration": 536,
    "start_time": "2025-03-11T00:23:05.230Z"
   },
   {
    "duration": 123,
    "start_time": "2025-03-11T00:23:05.767Z"
   },
   {
    "duration": 665,
    "start_time": "2025-03-11T00:23:05.892Z"
   },
   {
    "duration": 462,
    "start_time": "2025-03-11T00:23:06.559Z"
   },
   {
    "duration": 86,
    "start_time": "2025-03-11T00:23:07.023Z"
   },
   {
    "duration": 4,
    "start_time": "2025-03-11T00:23:07.111Z"
   },
   {
    "duration": 6698,
    "start_time": "2025-03-11T00:23:07.117Z"
   },
   {
    "duration": 398,
    "start_time": "2025-03-11T00:23:13.817Z"
   },
   {
    "duration": 295,
    "start_time": "2025-03-11T00:23:14.221Z"
   },
   {
    "duration": 197,
    "start_time": "2025-03-11T00:23:14.518Z"
   },
   {
    "duration": 259,
    "start_time": "2025-03-11T00:23:14.717Z"
   },
   {
    "duration": 429978,
    "start_time": "2025-03-11T00:23:14.978Z"
   },
   {
    "duration": 32223,
    "start_time": "2025-03-11T00:30:24.958Z"
   },
   {
    "duration": 251,
    "start_time": "2025-03-11T00:30:57.182Z"
   },
   {
    "duration": 1950,
    "start_time": "2025-03-11T00:30:57.436Z"
   },
   {
    "duration": 38348,
    "start_time": "2025-03-11T00:30:59.388Z"
   },
   {
    "duration": 704,
    "start_time": "2025-03-11T00:31:37.738Z"
   },
   {
    "duration": 190,
    "start_time": "2025-03-11T00:31:38.444Z"
   },
   {
    "duration": 133771,
    "start_time": "2025-03-11T00:31:38.640Z"
   },
   {
    "duration": 231,
    "start_time": "2025-03-11T00:33:52.414Z"
   },
   {
    "duration": 265,
    "start_time": "2025-03-11T00:33:52.647Z"
   },
   {
    "duration": 1088,
    "start_time": "2025-03-11T00:33:52.915Z"
   },
   {
    "duration": 34335,
    "start_time": "2025-03-11T00:33:54.005Z"
   },
   {
    "duration": 1202,
    "start_time": "2025-03-11T00:58:21.222Z"
   },
   {
    "duration": 33,
    "start_time": "2025-03-11T00:58:22.427Z"
   },
   {
    "duration": 15,
    "start_time": "2025-03-11T00:58:22.462Z"
   },
   {
    "duration": 413,
    "start_time": "2025-03-11T00:58:22.479Z"
   },
   {
    "duration": 11,
    "start_time": "2025-03-11T00:58:22.896Z"
   },
   {
    "duration": 553,
    "start_time": "2025-03-11T00:58:22.909Z"
   },
   {
    "duration": 123,
    "start_time": "2025-03-11T00:58:23.464Z"
   },
   {
    "duration": 650,
    "start_time": "2025-03-11T00:58:23.588Z"
   },
   {
    "duration": 587,
    "start_time": "2025-03-11T00:58:24.240Z"
   },
   {
    "duration": 17,
    "start_time": "2025-03-11T00:58:24.904Z"
   },
   {
    "duration": 5,
    "start_time": "2025-03-11T00:58:24.925Z"
   },
   {
    "duration": 6977,
    "start_time": "2025-03-11T00:58:24.931Z"
   },
   {
    "duration": 396,
    "start_time": "2025-03-11T00:58:31.910Z"
   },
   {
    "duration": 269,
    "start_time": "2025-03-11T00:58:32.313Z"
   },
   {
    "duration": 137,
    "start_time": "2025-03-11T00:58:32.584Z"
   },
   {
    "duration": 277,
    "start_time": "2025-03-11T00:58:32.723Z"
   },
   {
    "duration": 427014,
    "start_time": "2025-03-11T00:58:33.005Z"
   },
   {
    "duration": 32461,
    "start_time": "2025-03-11T01:05:40.021Z"
   },
   {
    "duration": 215,
    "start_time": "2025-03-11T01:06:12.484Z"
   },
   {
    "duration": 1963,
    "start_time": "2025-03-11T01:06:12.706Z"
   },
   {
    "duration": 38061,
    "start_time": "2025-03-11T01:06:14.671Z"
   },
   {
    "duration": 713,
    "start_time": "2025-03-11T01:06:52.734Z"
   },
   {
    "duration": 216,
    "start_time": "2025-03-11T01:06:53.448Z"
   },
   {
    "duration": 133030,
    "start_time": "2025-03-11T01:06:53.666Z"
   },
   {
    "duration": 228,
    "start_time": "2025-03-11T01:09:06.698Z"
   },
   {
    "duration": 279,
    "start_time": "2025-03-11T01:09:06.928Z"
   },
   {
    "duration": 1035,
    "start_time": "2025-03-11T01:09:07.209Z"
   },
   {
    "duration": 35523,
    "start_time": "2025-03-11T01:09:08.246Z"
   },
   {
    "duration": 378,
    "start_time": "2025-03-11T01:13:00.731Z"
   },
   {
    "duration": 1147,
    "start_time": "2025-03-11T01:15:07.222Z"
   },
   {
    "duration": 1257,
    "start_time": "2025-03-11T01:43:47.882Z"
   },
   {
    "duration": 36,
    "start_time": "2025-03-11T01:43:49.143Z"
   },
   {
    "duration": 26,
    "start_time": "2025-03-11T01:43:49.181Z"
   },
   {
    "duration": 393,
    "start_time": "2025-03-11T01:43:49.209Z"
   },
   {
    "duration": 9,
    "start_time": "2025-03-11T01:43:49.605Z"
   },
   {
    "duration": 562,
    "start_time": "2025-03-11T01:43:49.615Z"
   },
   {
    "duration": 149,
    "start_time": "2025-03-11T01:43:50.179Z"
   },
   {
    "duration": 5548,
    "start_time": "2025-03-11T01:43:50.330Z"
   },
   {
    "duration": 645,
    "start_time": "2025-03-11T01:43:55.881Z"
   },
   {
    "duration": 90,
    "start_time": "2025-03-11T01:43:56.529Z"
   },
   {
    "duration": 7,
    "start_time": "2025-03-11T01:43:56.621Z"
   },
   {
    "duration": 7683,
    "start_time": "2025-03-11T01:43:56.630Z"
   },
   {
    "duration": 400,
    "start_time": "2025-03-11T01:44:04.315Z"
   },
   {
    "duration": 238,
    "start_time": "2025-03-11T01:44:04.721Z"
   },
   {
    "duration": 172,
    "start_time": "2025-03-11T01:44:04.963Z"
   },
   {
    "duration": 229,
    "start_time": "2025-03-11T01:44:05.206Z"
   },
   {
    "duration": 432707,
    "start_time": "2025-03-11T01:44:05.437Z"
   },
   {
    "duration": 32528,
    "start_time": "2025-03-11T01:51:18.146Z"
   },
   {
    "duration": 213,
    "start_time": "2025-03-11T01:51:50.676Z"
   },
   {
    "duration": 1968,
    "start_time": "2025-03-11T01:51:50.892Z"
   },
   {
    "duration": 38045,
    "start_time": "2025-03-11T01:51:52.864Z"
   },
   {
    "duration": 773,
    "start_time": "2025-03-11T01:52:30.911Z"
   },
   {
    "duration": 185,
    "start_time": "2025-03-11T01:52:31.687Z"
   },
   {
    "duration": 133631,
    "start_time": "2025-03-11T01:52:31.875Z"
   },
   {
    "duration": 246,
    "start_time": "2025-03-11T01:54:45.509Z"
   },
   {
    "duration": 282,
    "start_time": "2025-03-11T01:54:45.756Z"
   },
   {
    "duration": 1093,
    "start_time": "2025-03-11T01:54:46.040Z"
   },
   {
    "duration": 35609,
    "start_time": "2025-03-11T01:54:47.135Z"
   }
  ],
  "kernelspec": {
   "display_name": "Python 3 (ipykernel)",
   "language": "python",
   "name": "python3"
  },
  "language_info": {
   "codemirror_mode": {
    "name": "ipython",
    "version": 3
   },
   "file_extension": ".py",
   "mimetype": "text/x-python",
   "name": "python",
   "nbconvert_exporter": "python",
   "pygments_lexer": "ipython3",
   "version": "3.9.19"
  },
  "toc": {
   "base_numbering": 1,
   "nav_menu": {},
   "number_sections": true,
   "sideBar": true,
   "skip_h1_title": true,
   "title_cell": "Table of Contents",
   "title_sidebar": "Contents",
   "toc_cell": false,
   "toc_position": {},
   "toc_section_display": true,
   "toc_window_display": false
  }
 },
 "nbformat": 4,
 "nbformat_minor": 2
}
